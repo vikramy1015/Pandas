{
 "cells": [
  {
   "cell_type": "code",
   "execution_count": 1,
   "id": "bd916804",
   "metadata": {},
   "outputs": [],
   "source": [
    "import pandas as pd\n",
    "import numpy as np"
   ]
  },
  {
   "cell_type": "code",
   "execution_count": 2,
   "id": "09262989",
   "metadata": {},
   "outputs": [],
   "source": [
    "# df=pd.read_csv(\"C:/Users/powel/OneDrive/Desktop/Upgrad/employees.csv\")\n",
    "# df=pd.read_csv(\"C:/Users/powel/OneDrive/Desktop/Upgrad/fortune1000.csv\")\n",
    "# df=pd.read_csv(\"C:/Users/powel/OneDrive/Desktop/Upgrad/jamesbond.csv\")\n",
    "# df=pd.read_csv(\"C:/Users/powel/OneDrive/Desktop/Upgrad/nba.csv\")\n"
   ]
  },
  {
   "cell_type": "code",
   "execution_count": 3,
   "id": "73317ab3",
   "metadata": {},
   "outputs": [],
   "source": [
    "data = np.array(['g','r','e','a','t'])"
   ]
  },
  {
   "cell_type": "code",
   "execution_count": 4,
   "id": "3f10c339",
   "metadata": {},
   "outputs": [
    {
     "data": {
      "text/plain": [
       "array(['g', 'r', 'e', 'a', 't'], dtype='<U1')"
      ]
     },
     "execution_count": 4,
     "metadata": {},
     "output_type": "execute_result"
    }
   ],
   "source": [
    "data"
   ]
  },
  {
   "cell_type": "code",
   "execution_count": 5,
   "id": "c071f3a9",
   "metadata": {},
   "outputs": [],
   "source": [
    "ser=pd.Series(data)"
   ]
  },
  {
   "cell_type": "code",
   "execution_count": 6,
   "id": "d153ae91",
   "metadata": {},
   "outputs": [
    {
     "data": {
      "text/plain": [
       "0    g\n",
       "1    r\n",
       "2    e\n",
       "3    a\n",
       "4    t\n",
       "dtype: object"
      ]
     },
     "execution_count": 6,
     "metadata": {},
     "output_type": "execute_result"
    }
   ],
   "source": [
    "ser"
   ]
  },
  {
   "cell_type": "code",
   "execution_count": 7,
   "id": "18ec1e0e",
   "metadata": {},
   "outputs": [],
   "source": [
    "ser=pd.Series(data,index=[10,11,12,13,14])"
   ]
  },
  {
   "cell_type": "code",
   "execution_count": 9,
   "id": "37b7a9c0",
   "metadata": {},
   "outputs": [
    {
     "data": {
      "text/plain": [
       "10    g\n",
       "11    r\n",
       "12    e\n",
       "13    a\n",
       "14    t\n",
       "dtype: object"
      ]
     },
     "execution_count": 9,
     "metadata": {},
     "output_type": "execute_result"
    }
   ],
   "source": [
    "ser"
   ]
  },
  {
   "cell_type": "code",
   "execution_count": 10,
   "id": "88ee9046",
   "metadata": {},
   "outputs": [],
   "source": [
    "dic={'maths':10,'eng':20,'science':30}"
   ]
  },
  {
   "cell_type": "code",
   "execution_count": 11,
   "id": "a443b0d4",
   "metadata": {},
   "outputs": [
    {
     "data": {
      "text/plain": [
       "{'maths': 10, 'eng': 20, 'science': 30}"
      ]
     },
     "execution_count": 11,
     "metadata": {},
     "output_type": "execute_result"
    }
   ],
   "source": [
    "dic"
   ]
  },
  {
   "cell_type": "code",
   "execution_count": 12,
   "id": "749094c3",
   "metadata": {},
   "outputs": [
    {
     "data": {
      "text/plain": [
       "maths      10\n",
       "eng        20\n",
       "science    30\n",
       "dtype: int64"
      ]
     },
     "execution_count": 12,
     "metadata": {},
     "output_type": "execute_result"
    }
   ],
   "source": [
    "pd.Series(dic)"
   ]
  },
  {
   "cell_type": "code",
   "execution_count": 14,
   "id": "47b196e5",
   "metadata": {},
   "outputs": [],
   "source": [
    "ser = pd.Series(10,index=[0,1,2,3,4])"
   ]
  },
  {
   "cell_type": "code",
   "execution_count": 16,
   "id": "35c7299e",
   "metadata": {},
   "outputs": [
    {
     "data": {
      "text/plain": [
       "0    10\n",
       "1    10\n",
       "2    10\n",
       "3    10\n",
       "4    10\n",
       "dtype: int64"
      ]
     },
     "execution_count": 16,
     "metadata": {},
     "output_type": "execute_result"
    }
   ],
   "source": [
    "ser"
   ]
  },
  {
   "cell_type": "markdown",
   "id": "fdd4db56",
   "metadata": {},
   "source": [
    "# Dataframe - is a Multi dimensional table made \n",
    "# up of collection of series"
   ]
  },
  {
   "cell_type": "code",
   "execution_count": 62,
   "id": "003f6d1b",
   "metadata": {},
   "outputs": [],
   "source": [
    "author =['Jitender','Purnima','Arpit']\n",
    "article = [210,211,114,178]"
   ]
  },
  {
   "cell_type": "code",
   "execution_count": 63,
   "id": "232ec656",
   "metadata": {},
   "outputs": [
    {
     "name": "stdout",
     "output_type": "stream",
     "text": [
      "['Jitender', 'Purnima', 'Arpit']\n",
      "[210, 211, 114, 178]\n"
     ]
    }
   ],
   "source": [
    "print(author)\n",
    "print(article)"
   ]
  },
  {
   "cell_type": "code",
   "execution_count": 64,
   "id": "852b7d8c",
   "metadata": {},
   "outputs": [],
   "source": [
    "aut_ser=pd.Series(author)\n",
    "art_ser=pd.Series(article)"
   ]
  },
  {
   "cell_type": "code",
   "execution_count": 69,
   "id": "28d90910",
   "metadata": {},
   "outputs": [],
   "source": [
    "frame = {'author_v2':aut_ser,'article_v2':art_ser}"
   ]
  },
  {
   "cell_type": "code",
   "execution_count": 70,
   "id": "1c009087",
   "metadata": {},
   "outputs": [
    {
     "data": {
      "text/plain": [
       "{'author_v2': 0    Jitender\n",
       " 1     Purnima\n",
       " 2       Arpit\n",
       " dtype: object,\n",
       " 'article_v2': 0    210\n",
       " 1    211\n",
       " 2    114\n",
       " 3    178\n",
       " dtype: int64}"
      ]
     },
     "execution_count": 70,
     "metadata": {},
     "output_type": "execute_result"
    }
   ],
   "source": [
    "frame"
   ]
  },
  {
   "cell_type": "code",
   "execution_count": 71,
   "id": "bc9c048d",
   "metadata": {},
   "outputs": [],
   "source": [
    "res=pd.DataFrame(frame)"
   ]
  },
  {
   "cell_type": "code",
   "execution_count": 72,
   "id": "77a44131",
   "metadata": {},
   "outputs": [
    {
     "data": {
      "text/html": [
       "<div>\n",
       "<style scoped>\n",
       "    .dataframe tbody tr th:only-of-type {\n",
       "        vertical-align: middle;\n",
       "    }\n",
       "\n",
       "    .dataframe tbody tr th {\n",
       "        vertical-align: top;\n",
       "    }\n",
       "\n",
       "    .dataframe thead th {\n",
       "        text-align: right;\n",
       "    }\n",
       "</style>\n",
       "<table border=\"1\" class=\"dataframe\">\n",
       "  <thead>\n",
       "    <tr style=\"text-align: right;\">\n",
       "      <th></th>\n",
       "      <th>author_v2</th>\n",
       "      <th>article_v2</th>\n",
       "    </tr>\n",
       "  </thead>\n",
       "  <tbody>\n",
       "    <tr>\n",
       "      <th>0</th>\n",
       "      <td>Jitender</td>\n",
       "      <td>210</td>\n",
       "    </tr>\n",
       "    <tr>\n",
       "      <th>1</th>\n",
       "      <td>Purnima</td>\n",
       "      <td>211</td>\n",
       "    </tr>\n",
       "    <tr>\n",
       "      <th>2</th>\n",
       "      <td>Arpit</td>\n",
       "      <td>114</td>\n",
       "    </tr>\n",
       "    <tr>\n",
       "      <th>3</th>\n",
       "      <td>NaN</td>\n",
       "      <td>178</td>\n",
       "    </tr>\n",
       "  </tbody>\n",
       "</table>\n",
       "</div>"
      ],
      "text/plain": [
       "  author_v2  article_v2\n",
       "0  Jitender         210\n",
       "1   Purnima         211\n",
       "2     Arpit         114\n",
       "3       NaN         178"
      ]
     },
     "execution_count": 72,
     "metadata": {},
     "output_type": "execute_result"
    }
   ],
   "source": [
    "res"
   ]
  },
  {
   "cell_type": "code",
   "execution_count": 73,
   "id": "c1179609",
   "metadata": {},
   "outputs": [],
   "source": [
    "data = {\n",
    "    'apples':[3,2,4,2],\n",
    "    'orange':[0,3,7,2]\n",
    "}"
   ]
  },
  {
   "cell_type": "code",
   "execution_count": 74,
   "id": "c82aae5e",
   "metadata": {},
   "outputs": [
    {
     "data": {
      "text/plain": [
       "{'apples': [3, 2, 4, 2], 'orange': [0, 3, 7, 2]}"
      ]
     },
     "execution_count": 74,
     "metadata": {},
     "output_type": "execute_result"
    }
   ],
   "source": [
    "data"
   ]
  },
  {
   "cell_type": "code",
   "execution_count": 75,
   "id": "68abb2d3",
   "metadata": {},
   "outputs": [],
   "source": [
    "res=pd.DataFrame(data)"
   ]
  },
  {
   "cell_type": "code",
   "execution_count": 76,
   "id": "d8b5f2bb",
   "metadata": {},
   "outputs": [
    {
     "data": {
      "text/html": [
       "<div>\n",
       "<style scoped>\n",
       "    .dataframe tbody tr th:only-of-type {\n",
       "        vertical-align: middle;\n",
       "    }\n",
       "\n",
       "    .dataframe tbody tr th {\n",
       "        vertical-align: top;\n",
       "    }\n",
       "\n",
       "    .dataframe thead th {\n",
       "        text-align: right;\n",
       "    }\n",
       "</style>\n",
       "<table border=\"1\" class=\"dataframe\">\n",
       "  <thead>\n",
       "    <tr style=\"text-align: right;\">\n",
       "      <th></th>\n",
       "      <th>apples</th>\n",
       "      <th>orange</th>\n",
       "    </tr>\n",
       "  </thead>\n",
       "  <tbody>\n",
       "    <tr>\n",
       "      <th>0</th>\n",
       "      <td>3</td>\n",
       "      <td>0</td>\n",
       "    </tr>\n",
       "    <tr>\n",
       "      <th>1</th>\n",
       "      <td>2</td>\n",
       "      <td>3</td>\n",
       "    </tr>\n",
       "    <tr>\n",
       "      <th>2</th>\n",
       "      <td>4</td>\n",
       "      <td>7</td>\n",
       "    </tr>\n",
       "    <tr>\n",
       "      <th>3</th>\n",
       "      <td>2</td>\n",
       "      <td>2</td>\n",
       "    </tr>\n",
       "  </tbody>\n",
       "</table>\n",
       "</div>"
      ],
      "text/plain": [
       "   apples  orange\n",
       "0       3       0\n",
       "1       2       3\n",
       "2       4       7\n",
       "3       2       2"
      ]
     },
     "execution_count": 76,
     "metadata": {},
     "output_type": "execute_result"
    }
   ],
   "source": [
    "res"
   ]
  },
  {
   "cell_type": "code",
   "execution_count": 21,
   "id": "ee8e503b",
   "metadata": {},
   "outputs": [],
   "source": [
    "#df=pd.read_csv(\"/employees.csv\")\n",
    "df=pd.read_csv(\"/Users/vicky/Downloads/Python DS/6. Pandas/employees.csv\")\n",
    "# df=pd.read_csv(\"C:/Users/powel/OneDrive/Desktop/Upgrad/fortune1000.csv\")\n",
    "# df=pd.read_csv(\"C:/Users/powel/OneDrive/Desktop/Upgrad/jamesbond.csv\")\n",
    "# df=pd.read_csv(\"C:/Users/powel/OneDrive/Desktop/Upgrad/nba.csv\")\n"
   ]
  },
  {
   "cell_type": "markdown",
   "id": "dc5a3116",
   "metadata": {},
   "source": [
    "# \"C:\\Users\\powel\\OneDrive\\Desktop\\Upgrad\\employees.csv\"\n",
    "# use / instead of \\"
   ]
  },
  {
   "cell_type": "code",
   "execution_count": 30,
   "id": "6e928ef1",
   "metadata": {},
   "outputs": [
    {
     "data": {
      "text/html": [
       "<div>\n",
       "<style scoped>\n",
       "    .dataframe tbody tr th:only-of-type {\n",
       "        vertical-align: middle;\n",
       "    }\n",
       "\n",
       "    .dataframe tbody tr th {\n",
       "        vertical-align: top;\n",
       "    }\n",
       "\n",
       "    .dataframe thead th {\n",
       "        text-align: right;\n",
       "    }\n",
       "</style>\n",
       "<table border=\"1\" class=\"dataframe\">\n",
       "  <thead>\n",
       "    <tr style=\"text-align: right;\">\n",
       "      <th></th>\n",
       "      <th>First Name</th>\n",
       "      <th>Gender</th>\n",
       "      <th>Start Date</th>\n",
       "      <th>Last Login Time</th>\n",
       "      <th>Salary</th>\n",
       "      <th>Bonus %</th>\n",
       "      <th>Senior Management</th>\n",
       "      <th>Team</th>\n",
       "    </tr>\n",
       "  </thead>\n",
       "  <tbody>\n",
       "    <tr>\n",
       "      <th>0</th>\n",
       "      <td>Douglas</td>\n",
       "      <td>Male</td>\n",
       "      <td>8/6/1993</td>\n",
       "      <td>12:42 PM</td>\n",
       "      <td>97308</td>\n",
       "      <td>6.945</td>\n",
       "      <td>True</td>\n",
       "      <td>Marketing</td>\n",
       "    </tr>\n",
       "    <tr>\n",
       "      <th>1</th>\n",
       "      <td>Thomas</td>\n",
       "      <td>Male</td>\n",
       "      <td>3/31/1996</td>\n",
       "      <td>6:53 AM</td>\n",
       "      <td>61933</td>\n",
       "      <td>4.170</td>\n",
       "      <td>True</td>\n",
       "      <td>NaN</td>\n",
       "    </tr>\n",
       "    <tr>\n",
       "      <th>2</th>\n",
       "      <td>Maria</td>\n",
       "      <td>Female</td>\n",
       "      <td>4/23/1993</td>\n",
       "      <td>11:17 AM</td>\n",
       "      <td>130590</td>\n",
       "      <td>11.858</td>\n",
       "      <td>False</td>\n",
       "      <td>Finance</td>\n",
       "    </tr>\n",
       "    <tr>\n",
       "      <th>3</th>\n",
       "      <td>Jerry</td>\n",
       "      <td>Male</td>\n",
       "      <td>3/4/2005</td>\n",
       "      <td>1:00 PM</td>\n",
       "      <td>138705</td>\n",
       "      <td>9.340</td>\n",
       "      <td>True</td>\n",
       "      <td>Finance</td>\n",
       "    </tr>\n",
       "    <tr>\n",
       "      <th>4</th>\n",
       "      <td>Larry</td>\n",
       "      <td>Male</td>\n",
       "      <td>1/24/1998</td>\n",
       "      <td>4:47 PM</td>\n",
       "      <td>101004</td>\n",
       "      <td>1.389</td>\n",
       "      <td>True</td>\n",
       "      <td>Client Services</td>\n",
       "    </tr>\n",
       "  </tbody>\n",
       "</table>\n",
       "</div>"
      ],
      "text/plain": [
       "  First Name  Gender Start Date Last Login Time  Salary  Bonus %  \\\n",
       "0    Douglas    Male   8/6/1993        12:42 PM   97308    6.945   \n",
       "1     Thomas    Male  3/31/1996         6:53 AM   61933    4.170   \n",
       "2      Maria  Female  4/23/1993        11:17 AM  130590   11.858   \n",
       "3      Jerry    Male   3/4/2005         1:00 PM  138705    9.340   \n",
       "4      Larry    Male  1/24/1998         4:47 PM  101004    1.389   \n",
       "\n",
       "  Senior Management             Team  \n",
       "0              True        Marketing  \n",
       "1              True              NaN  \n",
       "2             False          Finance  \n",
       "3              True          Finance  \n",
       "4              True  Client Services  "
      ]
     },
     "execution_count": 30,
     "metadata": {},
     "output_type": "execute_result"
    }
   ],
   "source": [
    "df.head()"
   ]
  },
  {
   "cell_type": "code",
   "execution_count": 40,
   "id": "52452893",
   "metadata": {},
   "outputs": [
    {
     "data": {
      "text/html": [
       "<div>\n",
       "<style scoped>\n",
       "    .dataframe tbody tr th:only-of-type {\n",
       "        vertical-align: middle;\n",
       "    }\n",
       "\n",
       "    .dataframe tbody tr th {\n",
       "        vertical-align: top;\n",
       "    }\n",
       "\n",
       "    .dataframe thead th {\n",
       "        text-align: right;\n",
       "    }\n",
       "</style>\n",
       "<table border=\"1\" class=\"dataframe\">\n",
       "  <thead>\n",
       "    <tr style=\"text-align: right;\">\n",
       "      <th></th>\n",
       "      <th>first name</th>\n",
       "      <th>gender</th>\n",
       "      <th>start date</th>\n",
       "      <th>last login time</th>\n",
       "      <th>salary</th>\n",
       "      <th>bonus %</th>\n",
       "      <th>senior management</th>\n",
       "      <th>team</th>\n",
       "    </tr>\n",
       "  </thead>\n",
       "  <tbody>\n",
       "    <tr>\n",
       "      <th>995</th>\n",
       "      <td>Henry</td>\n",
       "      <td>NaN</td>\n",
       "      <td>11/23/2014</td>\n",
       "      <td>6:09 AM</td>\n",
       "      <td>132483</td>\n",
       "      <td>16.655</td>\n",
       "      <td>False</td>\n",
       "      <td>Distribution</td>\n",
       "    </tr>\n",
       "    <tr>\n",
       "      <th>996</th>\n",
       "      <td>Phillip</td>\n",
       "      <td>Male</td>\n",
       "      <td>1/31/1984</td>\n",
       "      <td>6:30 AM</td>\n",
       "      <td>42392</td>\n",
       "      <td>19.675</td>\n",
       "      <td>False</td>\n",
       "      <td>Finance</td>\n",
       "    </tr>\n",
       "    <tr>\n",
       "      <th>997</th>\n",
       "      <td>Russell</td>\n",
       "      <td>Male</td>\n",
       "      <td>5/20/2013</td>\n",
       "      <td>12:39 PM</td>\n",
       "      <td>96914</td>\n",
       "      <td>1.421</td>\n",
       "      <td>False</td>\n",
       "      <td>Product</td>\n",
       "    </tr>\n",
       "    <tr>\n",
       "      <th>998</th>\n",
       "      <td>Larry</td>\n",
       "      <td>Male</td>\n",
       "      <td>4/20/2013</td>\n",
       "      <td>4:45 PM</td>\n",
       "      <td>60500</td>\n",
       "      <td>11.985</td>\n",
       "      <td>False</td>\n",
       "      <td>Business Development</td>\n",
       "    </tr>\n",
       "    <tr>\n",
       "      <th>999</th>\n",
       "      <td>Albert</td>\n",
       "      <td>Male</td>\n",
       "      <td>5/15/2012</td>\n",
       "      <td>6:24 PM</td>\n",
       "      <td>129949</td>\n",
       "      <td>10.169</td>\n",
       "      <td>True</td>\n",
       "      <td>Sales</td>\n",
       "    </tr>\n",
       "  </tbody>\n",
       "</table>\n",
       "</div>"
      ],
      "text/plain": [
       "    first name gender  start date last login time  salary  bonus %  \\\n",
       "995      Henry    NaN  11/23/2014         6:09 AM  132483   16.655   \n",
       "996    Phillip   Male   1/31/1984         6:30 AM   42392   19.675   \n",
       "997    Russell   Male   5/20/2013        12:39 PM   96914    1.421   \n",
       "998      Larry   Male   4/20/2013         4:45 PM   60500   11.985   \n",
       "999     Albert   Male   5/15/2012         6:24 PM  129949   10.169   \n",
       "\n",
       "    senior management                  team  \n",
       "995             False          Distribution  \n",
       "996             False               Finance  \n",
       "997             False               Product  \n",
       "998             False  Business Development  \n",
       "999              True                 Sales  "
      ]
     },
     "execution_count": 40,
     "metadata": {},
     "output_type": "execute_result"
    }
   ],
   "source": [
    "df.tail()"
   ]
  },
  {
   "cell_type": "code",
   "execution_count": 41,
   "id": "eafd9d13",
   "metadata": {},
   "outputs": [
    {
     "data": {
      "text/html": [
       "<div>\n",
       "<style scoped>\n",
       "    .dataframe tbody tr th:only-of-type {\n",
       "        vertical-align: middle;\n",
       "    }\n",
       "\n",
       "    .dataframe tbody tr th {\n",
       "        vertical-align: top;\n",
       "    }\n",
       "\n",
       "    .dataframe thead th {\n",
       "        text-align: right;\n",
       "    }\n",
       "</style>\n",
       "<table border=\"1\" class=\"dataframe\">\n",
       "  <thead>\n",
       "    <tr style=\"text-align: right;\">\n",
       "      <th></th>\n",
       "      <th>first name</th>\n",
       "      <th>gender</th>\n",
       "      <th>start date</th>\n",
       "      <th>last login time</th>\n",
       "      <th>salary</th>\n",
       "      <th>bonus %</th>\n",
       "      <th>senior management</th>\n",
       "      <th>team</th>\n",
       "    </tr>\n",
       "  </thead>\n",
       "  <tbody>\n",
       "    <tr>\n",
       "      <th>0</th>\n",
       "      <td>Douglas</td>\n",
       "      <td>Male</td>\n",
       "      <td>8/6/1993</td>\n",
       "      <td>12:42 PM</td>\n",
       "      <td>97308</td>\n",
       "      <td>6.945</td>\n",
       "      <td>True</td>\n",
       "      <td>Marketing</td>\n",
       "    </tr>\n",
       "    <tr>\n",
       "      <th>1</th>\n",
       "      <td>Thomas</td>\n",
       "      <td>Male</td>\n",
       "      <td>3/31/1996</td>\n",
       "      <td>6:53 AM</td>\n",
       "      <td>61933</td>\n",
       "      <td>4.170</td>\n",
       "      <td>True</td>\n",
       "      <td>NaN</td>\n",
       "    </tr>\n",
       "  </tbody>\n",
       "</table>\n",
       "</div>"
      ],
      "text/plain": [
       "  first name gender start date last login time  salary  bonus %  \\\n",
       "0    Douglas   Male   8/6/1993        12:42 PM   97308    6.945   \n",
       "1     Thomas   Male  3/31/1996         6:53 AM   61933    4.170   \n",
       "\n",
       "  senior management       team  \n",
       "0              True  Marketing  \n",
       "1              True        NaN  "
      ]
     },
     "execution_count": 41,
     "metadata": {},
     "output_type": "execute_result"
    }
   ],
   "source": [
    "df.head(2)"
   ]
  },
  {
   "cell_type": "code",
   "execution_count": 42,
   "id": "e628e73f",
   "metadata": {},
   "outputs": [
    {
     "data": {
      "text/plain": [
       "first name            object\n",
       "gender                object\n",
       "start date            object\n",
       "last login time       object\n",
       "salary                 int64\n",
       "bonus %              float64\n",
       "senior management     object\n",
       "team                  object\n",
       "dtype: object"
      ]
     },
     "execution_count": 42,
     "metadata": {},
     "output_type": "execute_result"
    }
   ],
   "source": [
    "df.dtypes"
   ]
  },
  {
   "cell_type": "code",
   "execution_count": 43,
   "id": "8d0801bd",
   "metadata": {},
   "outputs": [
    {
     "data": {
      "text/plain": [
       "Index(['first name', 'gender', 'start date', 'last login time', 'salary',\n",
       "       'bonus %', 'senior management', 'team'],\n",
       "      dtype='object')"
      ]
     },
     "execution_count": 43,
     "metadata": {},
     "output_type": "execute_result"
    }
   ],
   "source": [
    "df.columns"
   ]
  },
  {
   "cell_type": "code",
   "execution_count": 44,
   "id": "18a7c2a3",
   "metadata": {},
   "outputs": [],
   "source": [
    "df.columns=[col.lower() for col in df.columns]"
   ]
  },
  {
   "cell_type": "code",
   "execution_count": 45,
   "id": "7ba7c94c",
   "metadata": {},
   "outputs": [
    {
     "data": {
      "text/html": [
       "<div>\n",
       "<style scoped>\n",
       "    .dataframe tbody tr th:only-of-type {\n",
       "        vertical-align: middle;\n",
       "    }\n",
       "\n",
       "    .dataframe tbody tr th {\n",
       "        vertical-align: top;\n",
       "    }\n",
       "\n",
       "    .dataframe thead th {\n",
       "        text-align: right;\n",
       "    }\n",
       "</style>\n",
       "<table border=\"1\" class=\"dataframe\">\n",
       "  <thead>\n",
       "    <tr style=\"text-align: right;\">\n",
       "      <th></th>\n",
       "      <th>first name</th>\n",
       "      <th>gender</th>\n",
       "      <th>start date</th>\n",
       "      <th>last login time</th>\n",
       "      <th>salary</th>\n",
       "      <th>bonus %</th>\n",
       "      <th>senior management</th>\n",
       "      <th>team</th>\n",
       "    </tr>\n",
       "  </thead>\n",
       "  <tbody>\n",
       "    <tr>\n",
       "      <th>0</th>\n",
       "      <td>Douglas</td>\n",
       "      <td>Male</td>\n",
       "      <td>8/6/1993</td>\n",
       "      <td>12:42 PM</td>\n",
       "      <td>97308</td>\n",
       "      <td>6.945</td>\n",
       "      <td>True</td>\n",
       "      <td>Marketing</td>\n",
       "    </tr>\n",
       "    <tr>\n",
       "      <th>1</th>\n",
       "      <td>Thomas</td>\n",
       "      <td>Male</td>\n",
       "      <td>3/31/1996</td>\n",
       "      <td>6:53 AM</td>\n",
       "      <td>61933</td>\n",
       "      <td>4.170</td>\n",
       "      <td>True</td>\n",
       "      <td>NaN</td>\n",
       "    </tr>\n",
       "  </tbody>\n",
       "</table>\n",
       "</div>"
      ],
      "text/plain": [
       "  first name gender start date last login time  salary  bonus %  \\\n",
       "0    Douglas   Male   8/6/1993        12:42 PM   97308    6.945   \n",
       "1     Thomas   Male  3/31/1996         6:53 AM   61933    4.170   \n",
       "\n",
       "  senior management       team  \n",
       "0              True  Marketing  \n",
       "1              True        NaN  "
      ]
     },
     "execution_count": 45,
     "metadata": {},
     "output_type": "execute_result"
    }
   ],
   "source": [
    "df.head(2)"
   ]
  },
  {
   "cell_type": "code",
   "execution_count": 46,
   "id": "0b30c6e8",
   "metadata": {},
   "outputs": [],
   "source": [
    "df.columns=[col.replace(' ','_') for col in df.columns]"
   ]
  },
  {
   "cell_type": "code",
   "execution_count": 47,
   "id": "0e0c7d49",
   "metadata": {},
   "outputs": [
    {
     "data": {
      "text/html": [
       "<div>\n",
       "<style scoped>\n",
       "    .dataframe tbody tr th:only-of-type {\n",
       "        vertical-align: middle;\n",
       "    }\n",
       "\n",
       "    .dataframe tbody tr th {\n",
       "        vertical-align: top;\n",
       "    }\n",
       "\n",
       "    .dataframe thead th {\n",
       "        text-align: right;\n",
       "    }\n",
       "</style>\n",
       "<table border=\"1\" class=\"dataframe\">\n",
       "  <thead>\n",
       "    <tr style=\"text-align: right;\">\n",
       "      <th></th>\n",
       "      <th>first_name</th>\n",
       "      <th>gender</th>\n",
       "      <th>start_date</th>\n",
       "      <th>last_login_time</th>\n",
       "      <th>salary</th>\n",
       "      <th>bonus_%</th>\n",
       "      <th>senior_management</th>\n",
       "      <th>team</th>\n",
       "    </tr>\n",
       "  </thead>\n",
       "  <tbody>\n",
       "    <tr>\n",
       "      <th>0</th>\n",
       "      <td>Douglas</td>\n",
       "      <td>Male</td>\n",
       "      <td>8/6/1993</td>\n",
       "      <td>12:42 PM</td>\n",
       "      <td>97308</td>\n",
       "      <td>6.945</td>\n",
       "      <td>True</td>\n",
       "      <td>Marketing</td>\n",
       "    </tr>\n",
       "    <tr>\n",
       "      <th>1</th>\n",
       "      <td>Thomas</td>\n",
       "      <td>Male</td>\n",
       "      <td>3/31/1996</td>\n",
       "      <td>6:53 AM</td>\n",
       "      <td>61933</td>\n",
       "      <td>4.170</td>\n",
       "      <td>True</td>\n",
       "      <td>NaN</td>\n",
       "    </tr>\n",
       "  </tbody>\n",
       "</table>\n",
       "</div>"
      ],
      "text/plain": [
       "  first_name gender start_date last_login_time  salary  bonus_%  \\\n",
       "0    Douglas   Male   8/6/1993        12:42 PM   97308    6.945   \n",
       "1     Thomas   Male  3/31/1996         6:53 AM   61933    4.170   \n",
       "\n",
       "  senior_management       team  \n",
       "0              True  Marketing  \n",
       "1              True        NaN  "
      ]
     },
     "execution_count": 47,
     "metadata": {},
     "output_type": "execute_result"
    }
   ],
   "source": [
    "df.head(2)"
   ]
  },
  {
   "cell_type": "code",
   "execution_count": 48,
   "id": "11684c4b",
   "metadata": {},
   "outputs": [
    {
     "data": {
      "text/plain": [
       "first_name            object\n",
       "gender                object\n",
       "start_date            object\n",
       "last_login_time       object\n",
       "salary                 int64\n",
       "bonus_%              float64\n",
       "senior_management     object\n",
       "team                  object\n",
       "dtype: object"
      ]
     },
     "execution_count": 48,
     "metadata": {},
     "output_type": "execute_result"
    }
   ],
   "source": [
    "df.dtypes"
   ]
  },
  {
   "cell_type": "code",
   "execution_count": 49,
   "id": "d25235f8",
   "metadata": {},
   "outputs": [],
   "source": [
    "df['start_date_pro'] = df.start_date.astype('datetime64') #int float "
   ]
  },
  {
   "cell_type": "code",
   "execution_count": 50,
   "id": "807d1c66",
   "metadata": {},
   "outputs": [
    {
     "data": {
      "text/plain": [
       "0     1993-08-06\n",
       "1     1996-03-31\n",
       "2     1993-04-23\n",
       "3     2005-03-04\n",
       "4     1998-01-24\n",
       "         ...    \n",
       "995   2014-11-23\n",
       "996   1984-01-31\n",
       "997   2013-05-20\n",
       "998   2013-04-20\n",
       "999   2012-05-15\n",
       "Name: start_date_pro, Length: 1000, dtype: datetime64[ns]"
      ]
     },
     "execution_count": 50,
     "metadata": {},
     "output_type": "execute_result"
    }
   ],
   "source": [
    "df['start_date_pro']"
   ]
  },
  {
   "cell_type": "code",
   "execution_count": 122,
   "id": "ae86e9ad",
   "metadata": {},
   "outputs": [
    {
     "data": {
      "text/plain": [
       "first_name                   object\n",
       "gender                       object\n",
       "start_date                   object\n",
       "last_login_time              object\n",
       "salary                        int64\n",
       "bonus_%                     float64\n",
       "senior_management            object\n",
       "team                         object\n",
       "start_date_pro       datetime64[ns]\n",
       "dtype: object"
      ]
     },
     "execution_count": 122,
     "metadata": {},
     "output_type": "execute_result"
    }
   ],
   "source": [
    "df.dtypes"
   ]
  },
  {
   "cell_type": "code",
   "execution_count": 51,
   "id": "79d511e5",
   "metadata": {},
   "outputs": [
    {
     "ename": "AttributeError",
     "evalue": "Can only use .dt accessor with datetimelike values",
     "output_type": "error",
     "traceback": [
      "\u001b[0;31m---------------------------------------------------------------------------\u001b[0m",
      "\u001b[0;31mAttributeError\u001b[0m                            Traceback (most recent call last)",
      "Input \u001b[0;32mIn [51]\u001b[0m, in \u001b[0;36m<cell line: 1>\u001b[0;34m()\u001b[0m\n\u001b[0;32m----> 1\u001b[0m \u001b[43mdf\u001b[49m\u001b[38;5;241;43m.\u001b[39;49m\u001b[43mstart_date\u001b[49m\u001b[38;5;241;43m.\u001b[39;49m\u001b[43mdt\u001b[49m\u001b[38;5;241m.\u001b[39myear\n",
      "File \u001b[0;32m/opt/anaconda3/lib/python3.9/site-packages/pandas/core/generic.py:5575\u001b[0m, in \u001b[0;36mNDFrame.__getattr__\u001b[0;34m(self, name)\u001b[0m\n\u001b[1;32m   5568\u001b[0m \u001b[38;5;28;01mif\u001b[39;00m (\n\u001b[1;32m   5569\u001b[0m     name \u001b[38;5;129;01mnot\u001b[39;00m \u001b[38;5;129;01min\u001b[39;00m \u001b[38;5;28mself\u001b[39m\u001b[38;5;241m.\u001b[39m_internal_names_set\n\u001b[1;32m   5570\u001b[0m     \u001b[38;5;129;01mand\u001b[39;00m name \u001b[38;5;129;01mnot\u001b[39;00m \u001b[38;5;129;01min\u001b[39;00m \u001b[38;5;28mself\u001b[39m\u001b[38;5;241m.\u001b[39m_metadata\n\u001b[1;32m   5571\u001b[0m     \u001b[38;5;129;01mand\u001b[39;00m name \u001b[38;5;129;01mnot\u001b[39;00m \u001b[38;5;129;01min\u001b[39;00m \u001b[38;5;28mself\u001b[39m\u001b[38;5;241m.\u001b[39m_accessors\n\u001b[1;32m   5572\u001b[0m     \u001b[38;5;129;01mand\u001b[39;00m \u001b[38;5;28mself\u001b[39m\u001b[38;5;241m.\u001b[39m_info_axis\u001b[38;5;241m.\u001b[39m_can_hold_identifiers_and_holds_name(name)\n\u001b[1;32m   5573\u001b[0m ):\n\u001b[1;32m   5574\u001b[0m     \u001b[38;5;28;01mreturn\u001b[39;00m \u001b[38;5;28mself\u001b[39m[name]\n\u001b[0;32m-> 5575\u001b[0m \u001b[38;5;28;01mreturn\u001b[39;00m \u001b[38;5;28;43mobject\u001b[39;49m\u001b[38;5;241;43m.\u001b[39;49m\u001b[38;5;21;43m__getattribute__\u001b[39;49m\u001b[43m(\u001b[49m\u001b[38;5;28;43mself\u001b[39;49m\u001b[43m,\u001b[49m\u001b[43m \u001b[49m\u001b[43mname\u001b[49m\u001b[43m)\u001b[49m\n",
      "File \u001b[0;32m/opt/anaconda3/lib/python3.9/site-packages/pandas/core/accessor.py:182\u001b[0m, in \u001b[0;36mCachedAccessor.__get__\u001b[0;34m(self, obj, cls)\u001b[0m\n\u001b[1;32m    179\u001b[0m \u001b[38;5;28;01mif\u001b[39;00m obj \u001b[38;5;129;01mis\u001b[39;00m \u001b[38;5;28;01mNone\u001b[39;00m:\n\u001b[1;32m    180\u001b[0m     \u001b[38;5;66;03m# we're accessing the attribute of the class, i.e., Dataset.geo\u001b[39;00m\n\u001b[1;32m    181\u001b[0m     \u001b[38;5;28;01mreturn\u001b[39;00m \u001b[38;5;28mself\u001b[39m\u001b[38;5;241m.\u001b[39m_accessor\n\u001b[0;32m--> 182\u001b[0m accessor_obj \u001b[38;5;241m=\u001b[39m \u001b[38;5;28;43mself\u001b[39;49m\u001b[38;5;241;43m.\u001b[39;49m\u001b[43m_accessor\u001b[49m\u001b[43m(\u001b[49m\u001b[43mobj\u001b[49m\u001b[43m)\u001b[49m\n\u001b[1;32m    183\u001b[0m \u001b[38;5;66;03m# Replace the property with the accessor object. Inspired by:\u001b[39;00m\n\u001b[1;32m    184\u001b[0m \u001b[38;5;66;03m# https://www.pydanny.com/cached-property.html\u001b[39;00m\n\u001b[1;32m    185\u001b[0m \u001b[38;5;66;03m# We need to use object.__setattr__ because we overwrite __setattr__ on\u001b[39;00m\n\u001b[1;32m    186\u001b[0m \u001b[38;5;66;03m# NDFrame\u001b[39;00m\n\u001b[1;32m    187\u001b[0m \u001b[38;5;28mobject\u001b[39m\u001b[38;5;241m.\u001b[39m\u001b[38;5;21m__setattr__\u001b[39m(obj, \u001b[38;5;28mself\u001b[39m\u001b[38;5;241m.\u001b[39m_name, accessor_obj)\n",
      "File \u001b[0;32m/opt/anaconda3/lib/python3.9/site-packages/pandas/core/indexes/accessors.py:509\u001b[0m, in \u001b[0;36mCombinedDatetimelikeProperties.__new__\u001b[0;34m(cls, data)\u001b[0m\n\u001b[1;32m    506\u001b[0m \u001b[38;5;28;01melif\u001b[39;00m is_period_dtype(data\u001b[38;5;241m.\u001b[39mdtype):\n\u001b[1;32m    507\u001b[0m     \u001b[38;5;28;01mreturn\u001b[39;00m PeriodProperties(data, orig)\n\u001b[0;32m--> 509\u001b[0m \u001b[38;5;28;01mraise\u001b[39;00m \u001b[38;5;167;01mAttributeError\u001b[39;00m(\u001b[38;5;124m\"\u001b[39m\u001b[38;5;124mCan only use .dt accessor with datetimelike values\u001b[39m\u001b[38;5;124m\"\u001b[39m)\n",
      "\u001b[0;31mAttributeError\u001b[0m: Can only use .dt accessor with datetimelike values"
     ]
    }
   ],
   "source": [
    "df.start_date.dt.year"
   ]
  },
  {
   "cell_type": "code",
   "execution_count": 54,
   "id": "e54ef86a",
   "metadata": {},
   "outputs": [],
   "source": [
    "df['iYEAR']=df.start_date_pro.dt.year"
   ]
  },
  {
   "cell_type": "code",
   "execution_count": 56,
   "id": "1c445e3f",
   "metadata": {},
   "outputs": [
    {
     "data": {
      "text/html": [
       "<div>\n",
       "<style scoped>\n",
       "    .dataframe tbody tr th:only-of-type {\n",
       "        vertical-align: middle;\n",
       "    }\n",
       "\n",
       "    .dataframe tbody tr th {\n",
       "        vertical-align: top;\n",
       "    }\n",
       "\n",
       "    .dataframe thead th {\n",
       "        text-align: right;\n",
       "    }\n",
       "</style>\n",
       "<table border=\"1\" class=\"dataframe\">\n",
       "  <thead>\n",
       "    <tr style=\"text-align: right;\">\n",
       "      <th></th>\n",
       "      <th>first_name</th>\n",
       "      <th>gender</th>\n",
       "      <th>start_date</th>\n",
       "      <th>last_login_time</th>\n",
       "      <th>salary</th>\n",
       "      <th>bonus_%</th>\n",
       "      <th>senior_management</th>\n",
       "      <th>team</th>\n",
       "      <th>start_date_pro</th>\n",
       "      <th>iYEAR</th>\n",
       "    </tr>\n",
       "  </thead>\n",
       "  <tbody>\n",
       "    <tr>\n",
       "      <th>0</th>\n",
       "      <td>Douglas</td>\n",
       "      <td>Male</td>\n",
       "      <td>8/6/1993</td>\n",
       "      <td>12:42 PM</td>\n",
       "      <td>97308</td>\n",
       "      <td>6.945</td>\n",
       "      <td>True</td>\n",
       "      <td>Marketing</td>\n",
       "      <td>1993-08-06</td>\n",
       "      <td>1993</td>\n",
       "    </tr>\n",
       "    <tr>\n",
       "      <th>1</th>\n",
       "      <td>Thomas</td>\n",
       "      <td>Male</td>\n",
       "      <td>3/31/1996</td>\n",
       "      <td>6:53 AM</td>\n",
       "      <td>61933</td>\n",
       "      <td>4.170</td>\n",
       "      <td>True</td>\n",
       "      <td>NaN</td>\n",
       "      <td>1996-03-31</td>\n",
       "      <td>1996</td>\n",
       "    </tr>\n",
       "    <tr>\n",
       "      <th>2</th>\n",
       "      <td>Maria</td>\n",
       "      <td>Female</td>\n",
       "      <td>4/23/1993</td>\n",
       "      <td>11:17 AM</td>\n",
       "      <td>130590</td>\n",
       "      <td>11.858</td>\n",
       "      <td>False</td>\n",
       "      <td>Finance</td>\n",
       "      <td>1993-04-23</td>\n",
       "      <td>1993</td>\n",
       "    </tr>\n",
       "    <tr>\n",
       "      <th>3</th>\n",
       "      <td>Jerry</td>\n",
       "      <td>Male</td>\n",
       "      <td>3/4/2005</td>\n",
       "      <td>1:00 PM</td>\n",
       "      <td>138705</td>\n",
       "      <td>9.340</td>\n",
       "      <td>True</td>\n",
       "      <td>Finance</td>\n",
       "      <td>2005-03-04</td>\n",
       "      <td>2005</td>\n",
       "    </tr>\n",
       "  </tbody>\n",
       "</table>\n",
       "</div>"
      ],
      "text/plain": [
       "  first_name  gender start_date last_login_time  salary  bonus_%  \\\n",
       "0    Douglas    Male   8/6/1993        12:42 PM   97308    6.945   \n",
       "1     Thomas    Male  3/31/1996         6:53 AM   61933    4.170   \n",
       "2      Maria  Female  4/23/1993        11:17 AM  130590   11.858   \n",
       "3      Jerry    Male   3/4/2005         1:00 PM  138705    9.340   \n",
       "\n",
       "  senior_management       team start_date_pro  iYEAR  \n",
       "0              True  Marketing     1993-08-06   1993  \n",
       "1              True        NaN     1996-03-31   1996  \n",
       "2             False    Finance     1993-04-23   1993  \n",
       "3              True    Finance     2005-03-04   2005  "
      ]
     },
     "execution_count": 56,
     "metadata": {},
     "output_type": "execute_result"
    }
   ],
   "source": [
    "df.head(4)"
   ]
  },
  {
   "cell_type": "code",
   "execution_count": 128,
   "id": "77e46480",
   "metadata": {},
   "outputs": [
    {
     "data": {
      "text/plain": [
       "Client Services         106\n",
       "Finance                 102\n",
       "Business Development    101\n",
       "Marketing                98\n",
       "Product                  95\n",
       "Sales                    94\n",
       "Engineering              92\n",
       "Human Resources          91\n",
       "Distribution             90\n",
       "Legal                    88\n",
       "Name: team, dtype: int64"
      ]
     },
     "execution_count": 128,
     "metadata": {},
     "output_type": "execute_result"
    }
   ],
   "source": [
    "df.team.value_counts()"
   ]
  },
  {
   "cell_type": "code",
   "execution_count": 57,
   "id": "f139842c",
   "metadata": {},
   "outputs": [],
   "source": [
    "filter=df['team'].isin(['Legal','Finance'])"
   ]
  },
  {
   "cell_type": "code",
   "execution_count": 58,
   "id": "1509ba07",
   "metadata": {},
   "outputs": [
    {
     "data": {
      "text/html": [
       "<div>\n",
       "<style scoped>\n",
       "    .dataframe tbody tr th:only-of-type {\n",
       "        vertical-align: middle;\n",
       "    }\n",
       "\n",
       "    .dataframe tbody tr th {\n",
       "        vertical-align: top;\n",
       "    }\n",
       "\n",
       "    .dataframe thead th {\n",
       "        text-align: right;\n",
       "    }\n",
       "</style>\n",
       "<table border=\"1\" class=\"dataframe\">\n",
       "  <thead>\n",
       "    <tr style=\"text-align: right;\">\n",
       "      <th></th>\n",
       "      <th>first_name</th>\n",
       "      <th>gender</th>\n",
       "      <th>start_date</th>\n",
       "      <th>last_login_time</th>\n",
       "      <th>salary</th>\n",
       "      <th>bonus_%</th>\n",
       "      <th>senior_management</th>\n",
       "      <th>team</th>\n",
       "      <th>start_date_pro</th>\n",
       "      <th>iYEAR</th>\n",
       "    </tr>\n",
       "  </thead>\n",
       "  <tbody>\n",
       "    <tr>\n",
       "      <th>2</th>\n",
       "      <td>Maria</td>\n",
       "      <td>Female</td>\n",
       "      <td>4/23/1993</td>\n",
       "      <td>11:17 AM</td>\n",
       "      <td>130590</td>\n",
       "      <td>11.858</td>\n",
       "      <td>False</td>\n",
       "      <td>Finance</td>\n",
       "      <td>1993-04-23</td>\n",
       "      <td>1993</td>\n",
       "    </tr>\n",
       "    <tr>\n",
       "      <th>3</th>\n",
       "      <td>Jerry</td>\n",
       "      <td>Male</td>\n",
       "      <td>3/4/2005</td>\n",
       "      <td>1:00 PM</td>\n",
       "      <td>138705</td>\n",
       "      <td>9.340</td>\n",
       "      <td>True</td>\n",
       "      <td>Finance</td>\n",
       "      <td>2005-03-04</td>\n",
       "      <td>2005</td>\n",
       "    </tr>\n",
       "  </tbody>\n",
       "</table>\n",
       "</div>"
      ],
      "text/plain": [
       "  first_name  gender start_date last_login_time  salary  bonus_%  \\\n",
       "2      Maria  Female  4/23/1993        11:17 AM  130590   11.858   \n",
       "3      Jerry    Male   3/4/2005         1:00 PM  138705    9.340   \n",
       "\n",
       "  senior_management     team start_date_pro  iYEAR  \n",
       "2             False  Finance     1993-04-23   1993  \n",
       "3              True  Finance     2005-03-04   2005  "
      ]
     },
     "execution_count": 58,
     "metadata": {},
     "output_type": "execute_result"
    }
   ],
   "source": [
    "df[filter].head(2)"
   ]
  },
  {
   "cell_type": "code",
   "execution_count": 59,
   "id": "452461bf",
   "metadata": {},
   "outputs": [
    {
     "data": {
      "text/plain": [
       "Finance    102\n",
       "Legal       88\n",
       "Name: team, dtype: int64"
      ]
     },
     "execution_count": 59,
     "metadata": {},
     "output_type": "execute_result"
    }
   ],
   "source": [
    "df[filter].team.value_counts()"
   ]
  },
  {
   "cell_type": "code",
   "execution_count": 61,
   "id": "a1b7056a",
   "metadata": {},
   "outputs": [],
   "source": [
    "#new_df=df[filter]\n",
    "#new_df.head()"
   ]
  },
  {
   "cell_type": "code",
   "execution_count": 63,
   "id": "c408ec1b",
   "metadata": {},
   "outputs": [],
   "source": [
    " #new_df.team.value_counts()"
   ]
  },
  {
   "cell_type": "code",
   "execution_count": 64,
   "id": "c0ccfc42",
   "metadata": {},
   "outputs": [
    {
     "data": {
      "text/html": [
       "<div>\n",
       "<style scoped>\n",
       "    .dataframe tbody tr th:only-of-type {\n",
       "        vertical-align: middle;\n",
       "    }\n",
       "\n",
       "    .dataframe tbody tr th {\n",
       "        vertical-align: top;\n",
       "    }\n",
       "\n",
       "    .dataframe thead th {\n",
       "        text-align: right;\n",
       "    }\n",
       "</style>\n",
       "<table border=\"1\" class=\"dataframe\">\n",
       "  <thead>\n",
       "    <tr style=\"text-align: right;\">\n",
       "      <th></th>\n",
       "      <th>first_name</th>\n",
       "      <th>gender</th>\n",
       "      <th>start_date</th>\n",
       "      <th>last_login_time</th>\n",
       "      <th>salary</th>\n",
       "      <th>bonus_%</th>\n",
       "      <th>senior_management</th>\n",
       "      <th>team</th>\n",
       "      <th>start_date_pro</th>\n",
       "      <th>iYEAR</th>\n",
       "    </tr>\n",
       "  </thead>\n",
       "  <tbody>\n",
       "    <tr>\n",
       "      <th>2</th>\n",
       "      <td>Maria</td>\n",
       "      <td>Female</td>\n",
       "      <td>4/23/1993</td>\n",
       "      <td>11:17 AM</td>\n",
       "      <td>130590</td>\n",
       "      <td>11.858</td>\n",
       "      <td>False</td>\n",
       "      <td>Finance</td>\n",
       "      <td>1993-04-23</td>\n",
       "      <td>1993</td>\n",
       "    </tr>\n",
       "    <tr>\n",
       "      <th>3</th>\n",
       "      <td>Jerry</td>\n",
       "      <td>Male</td>\n",
       "      <td>3/4/2005</td>\n",
       "      <td>1:00 PM</td>\n",
       "      <td>138705</td>\n",
       "      <td>9.340</td>\n",
       "      <td>True</td>\n",
       "      <td>Finance</td>\n",
       "      <td>2005-03-04</td>\n",
       "      <td>2005</td>\n",
       "    </tr>\n",
       "    <tr>\n",
       "      <th>5</th>\n",
       "      <td>Dennis</td>\n",
       "      <td>Male</td>\n",
       "      <td>4/18/1987</td>\n",
       "      <td>1:35 AM</td>\n",
       "      <td>115163</td>\n",
       "      <td>10.125</td>\n",
       "      <td>False</td>\n",
       "      <td>Legal</td>\n",
       "      <td>1987-04-18</td>\n",
       "      <td>1987</td>\n",
       "    </tr>\n",
       "    <tr>\n",
       "      <th>7</th>\n",
       "      <td>NaN</td>\n",
       "      <td>Female</td>\n",
       "      <td>7/20/2015</td>\n",
       "      <td>10:43 AM</td>\n",
       "      <td>45906</td>\n",
       "      <td>11.598</td>\n",
       "      <td>NaN</td>\n",
       "      <td>Finance</td>\n",
       "      <td>2015-07-20</td>\n",
       "      <td>2015</td>\n",
       "    </tr>\n",
       "    <tr>\n",
       "      <th>11</th>\n",
       "      <td>Julie</td>\n",
       "      <td>Female</td>\n",
       "      <td>10/26/1997</td>\n",
       "      <td>3:19 PM</td>\n",
       "      <td>102508</td>\n",
       "      <td>12.637</td>\n",
       "      <td>True</td>\n",
       "      <td>Legal</td>\n",
       "      <td>1997-10-26</td>\n",
       "      <td>1997</td>\n",
       "    </tr>\n",
       "  </tbody>\n",
       "</table>\n",
       "</div>"
      ],
      "text/plain": [
       "   first_name  gender  start_date last_login_time  salary  bonus_%  \\\n",
       "2       Maria  Female   4/23/1993        11:17 AM  130590   11.858   \n",
       "3       Jerry    Male    3/4/2005         1:00 PM  138705    9.340   \n",
       "5      Dennis    Male   4/18/1987         1:35 AM  115163   10.125   \n",
       "7         NaN  Female   7/20/2015        10:43 AM   45906   11.598   \n",
       "11      Julie  Female  10/26/1997         3:19 PM  102508   12.637   \n",
       "\n",
       "   senior_management     team start_date_pro  iYEAR  \n",
       "2              False  Finance     1993-04-23   1993  \n",
       "3               True  Finance     2005-03-04   2005  \n",
       "5              False    Legal     1987-04-18   1987  \n",
       "7                NaN  Finance     2015-07-20   2015  \n",
       "11              True    Legal     1997-10-26   1997  "
      ]
     },
     "execution_count": 64,
     "metadata": {},
     "output_type": "execute_result"
    }
   ],
   "source": [
    "#line 132 & 134 in single line \n",
    "df[df['team'].isin(['Legal','Finance'])].head()"
   ]
  },
  {
   "cell_type": "markdown",
   "id": "c246d27e",
   "metadata": {},
   "source": [
    "# Objective get the employee details whose salary is between 60k to 70k"
   ]
  },
  {
   "cell_type": "code",
   "execution_count": 148,
   "id": "b8b92b8f",
   "metadata": {},
   "outputs": [
    {
     "data": {
      "text/html": [
       "<div>\n",
       "<style scoped>\n",
       "    .dataframe tbody tr th:only-of-type {\n",
       "        vertical-align: middle;\n",
       "    }\n",
       "\n",
       "    .dataframe tbody tr th {\n",
       "        vertical-align: top;\n",
       "    }\n",
       "\n",
       "    .dataframe thead th {\n",
       "        text-align: right;\n",
       "    }\n",
       "</style>\n",
       "<table border=\"1\" class=\"dataframe\">\n",
       "  <thead>\n",
       "    <tr style=\"text-align: right;\">\n",
       "      <th></th>\n",
       "      <th>first_name</th>\n",
       "      <th>gender</th>\n",
       "      <th>start_date</th>\n",
       "      <th>last_login_time</th>\n",
       "      <th>salary</th>\n",
       "      <th>bonus_%</th>\n",
       "      <th>senior_management</th>\n",
       "      <th>team</th>\n",
       "      <th>start_date_pro</th>\n",
       "      <th>sal_con</th>\n",
       "    </tr>\n",
       "  </thead>\n",
       "  <tbody>\n",
       "    <tr>\n",
       "      <th>0</th>\n",
       "      <td>Douglas</td>\n",
       "      <td>Male</td>\n",
       "      <td>8/6/1993</td>\n",
       "      <td>12:42 PM</td>\n",
       "      <td>97308</td>\n",
       "      <td>6.945</td>\n",
       "      <td>True</td>\n",
       "      <td>Marketing</td>\n",
       "      <td>1993-08-06</td>\n",
       "      <td>False</td>\n",
       "    </tr>\n",
       "    <tr>\n",
       "      <th>1</th>\n",
       "      <td>Thomas</td>\n",
       "      <td>Male</td>\n",
       "      <td>3/31/1996</td>\n",
       "      <td>6:53 AM</td>\n",
       "      <td>61933</td>\n",
       "      <td>4.170</td>\n",
       "      <td>True</td>\n",
       "      <td>NaN</td>\n",
       "      <td>1996-03-31</td>\n",
       "      <td>True</td>\n",
       "    </tr>\n",
       "    <tr>\n",
       "      <th>2</th>\n",
       "      <td>Maria</td>\n",
       "      <td>Female</td>\n",
       "      <td>4/23/1993</td>\n",
       "      <td>11:17 AM</td>\n",
       "      <td>130590</td>\n",
       "      <td>11.858</td>\n",
       "      <td>False</td>\n",
       "      <td>Finance</td>\n",
       "      <td>1993-04-23</td>\n",
       "      <td>False</td>\n",
       "    </tr>\n",
       "    <tr>\n",
       "      <th>3</th>\n",
       "      <td>Jerry</td>\n",
       "      <td>Male</td>\n",
       "      <td>3/4/2005</td>\n",
       "      <td>1:00 PM</td>\n",
       "      <td>138705</td>\n",
       "      <td>9.340</td>\n",
       "      <td>True</td>\n",
       "      <td>Finance</td>\n",
       "      <td>2005-03-04</td>\n",
       "      <td>False</td>\n",
       "    </tr>\n",
       "    <tr>\n",
       "      <th>4</th>\n",
       "      <td>Larry</td>\n",
       "      <td>Male</td>\n",
       "      <td>1/24/1998</td>\n",
       "      <td>4:47 PM</td>\n",
       "      <td>101004</td>\n",
       "      <td>1.389</td>\n",
       "      <td>True</td>\n",
       "      <td>Client Services</td>\n",
       "      <td>1998-01-24</td>\n",
       "      <td>False</td>\n",
       "    </tr>\n",
       "  </tbody>\n",
       "</table>\n",
       "</div>"
      ],
      "text/plain": [
       "  first_name  gender start_date last_login_time  salary  bonus_%  \\\n",
       "0    Douglas    Male   8/6/1993        12:42 PM   97308    6.945   \n",
       "1     Thomas    Male  3/31/1996         6:53 AM   61933    4.170   \n",
       "2      Maria  Female  4/23/1993        11:17 AM  130590   11.858   \n",
       "3      Jerry    Male   3/4/2005         1:00 PM  138705    9.340   \n",
       "4      Larry    Male  1/24/1998         4:47 PM  101004    1.389   \n",
       "\n",
       "  senior_management             team start_date_pro  sal_con  \n",
       "0              True        Marketing     1993-08-06    False  \n",
       "1              True              NaN     1996-03-31     True  \n",
       "2             False          Finance     1993-04-23    False  \n",
       "3              True          Finance     2005-03-04    False  \n",
       "4              True  Client Services     1998-01-24    False  "
      ]
     },
     "execution_count": 148,
     "metadata": {},
     "output_type": "execute_result"
    }
   ],
   "source": [
    "df.head(5)"
   ]
  },
  {
   "cell_type": "code",
   "execution_count": 65,
   "id": "a389ef4b",
   "metadata": {},
   "outputs": [],
   "source": [
    "df['sal_con']=df['salary'].between(60000,70000)"
   ]
  },
  {
   "cell_type": "code",
   "execution_count": 66,
   "id": "4c4ea370",
   "metadata": {},
   "outputs": [
    {
     "data": {
      "text/html": [
       "<div>\n",
       "<style scoped>\n",
       "    .dataframe tbody tr th:only-of-type {\n",
       "        vertical-align: middle;\n",
       "    }\n",
       "\n",
       "    .dataframe tbody tr th {\n",
       "        vertical-align: top;\n",
       "    }\n",
       "\n",
       "    .dataframe thead th {\n",
       "        text-align: right;\n",
       "    }\n",
       "</style>\n",
       "<table border=\"1\" class=\"dataframe\">\n",
       "  <thead>\n",
       "    <tr style=\"text-align: right;\">\n",
       "      <th></th>\n",
       "      <th>first_name</th>\n",
       "      <th>gender</th>\n",
       "      <th>start_date</th>\n",
       "      <th>last_login_time</th>\n",
       "      <th>salary</th>\n",
       "      <th>bonus_%</th>\n",
       "      <th>senior_management</th>\n",
       "      <th>team</th>\n",
       "      <th>start_date_pro</th>\n",
       "      <th>iYEAR</th>\n",
       "      <th>sal_con</th>\n",
       "    </tr>\n",
       "  </thead>\n",
       "  <tbody>\n",
       "    <tr>\n",
       "      <th>0</th>\n",
       "      <td>Douglas</td>\n",
       "      <td>Male</td>\n",
       "      <td>8/6/1993</td>\n",
       "      <td>12:42 PM</td>\n",
       "      <td>97308</td>\n",
       "      <td>6.945</td>\n",
       "      <td>True</td>\n",
       "      <td>Marketing</td>\n",
       "      <td>1993-08-06</td>\n",
       "      <td>1993</td>\n",
       "      <td>False</td>\n",
       "    </tr>\n",
       "    <tr>\n",
       "      <th>1</th>\n",
       "      <td>Thomas</td>\n",
       "      <td>Male</td>\n",
       "      <td>3/31/1996</td>\n",
       "      <td>6:53 AM</td>\n",
       "      <td>61933</td>\n",
       "      <td>4.170</td>\n",
       "      <td>True</td>\n",
       "      <td>NaN</td>\n",
       "      <td>1996-03-31</td>\n",
       "      <td>1996</td>\n",
       "      <td>True</td>\n",
       "    </tr>\n",
       "    <tr>\n",
       "      <th>2</th>\n",
       "      <td>Maria</td>\n",
       "      <td>Female</td>\n",
       "      <td>4/23/1993</td>\n",
       "      <td>11:17 AM</td>\n",
       "      <td>130590</td>\n",
       "      <td>11.858</td>\n",
       "      <td>False</td>\n",
       "      <td>Finance</td>\n",
       "      <td>1993-04-23</td>\n",
       "      <td>1993</td>\n",
       "      <td>False</td>\n",
       "    </tr>\n",
       "    <tr>\n",
       "      <th>3</th>\n",
       "      <td>Jerry</td>\n",
       "      <td>Male</td>\n",
       "      <td>3/4/2005</td>\n",
       "      <td>1:00 PM</td>\n",
       "      <td>138705</td>\n",
       "      <td>9.340</td>\n",
       "      <td>True</td>\n",
       "      <td>Finance</td>\n",
       "      <td>2005-03-04</td>\n",
       "      <td>2005</td>\n",
       "      <td>False</td>\n",
       "    </tr>\n",
       "    <tr>\n",
       "      <th>4</th>\n",
       "      <td>Larry</td>\n",
       "      <td>Male</td>\n",
       "      <td>1/24/1998</td>\n",
       "      <td>4:47 PM</td>\n",
       "      <td>101004</td>\n",
       "      <td>1.389</td>\n",
       "      <td>True</td>\n",
       "      <td>Client Services</td>\n",
       "      <td>1998-01-24</td>\n",
       "      <td>1998</td>\n",
       "      <td>False</td>\n",
       "    </tr>\n",
       "  </tbody>\n",
       "</table>\n",
       "</div>"
      ],
      "text/plain": [
       "  first_name  gender start_date last_login_time  salary  bonus_%  \\\n",
       "0    Douglas    Male   8/6/1993        12:42 PM   97308    6.945   \n",
       "1     Thomas    Male  3/31/1996         6:53 AM   61933    4.170   \n",
       "2      Maria  Female  4/23/1993        11:17 AM  130590   11.858   \n",
       "3      Jerry    Male   3/4/2005         1:00 PM  138705    9.340   \n",
       "4      Larry    Male  1/24/1998         4:47 PM  101004    1.389   \n",
       "\n",
       "  senior_management             team start_date_pro  iYEAR  sal_con  \n",
       "0              True        Marketing     1993-08-06   1993    False  \n",
       "1              True              NaN     1996-03-31   1996     True  \n",
       "2             False          Finance     1993-04-23   1993    False  \n",
       "3              True          Finance     2005-03-04   2005    False  \n",
       "4              True  Client Services     1998-01-24   1998    False  "
      ]
     },
     "execution_count": 66,
     "metadata": {},
     "output_type": "execute_result"
    }
   ],
   "source": [
    "df.head(5)"
   ]
  },
  {
   "cell_type": "markdown",
   "id": "e22f8786",
   "metadata": {},
   "source": [
    "# get emmployees who belongs to senior management"
   ]
  },
  {
   "cell_type": "code",
   "execution_count": 67,
   "id": "b7da6dab",
   "metadata": {},
   "outputs": [],
   "source": [
    "filter1=df['senior_management']==True"
   ]
  },
  {
   "cell_type": "code",
   "execution_count": 68,
   "id": "1cb3abe4",
   "metadata": {},
   "outputs": [],
   "source": [
    "# df['senior_management']=='True'"
   ]
  },
  {
   "cell_type": "markdown",
   "id": "029a0a12",
   "metadata": {},
   "source": [
    "# get emmployees who belongs to senior management or employees joined company before jan 1st 1990"
   ]
  },
  {
   "cell_type": "code",
   "execution_count": 69,
   "id": "4a8ebaa7",
   "metadata": {},
   "outputs": [],
   "source": [
    "filter2=df['start_date_pro'].dt.year < 1990"
   ]
  },
  {
   "cell_type": "code",
   "execution_count": 70,
   "id": "fbf8a47b",
   "metadata": {},
   "outputs": [
    {
     "data": {
      "text/html": [
       "<div>\n",
       "<style scoped>\n",
       "    .dataframe tbody tr th:only-of-type {\n",
       "        vertical-align: middle;\n",
       "    }\n",
       "\n",
       "    .dataframe tbody tr th {\n",
       "        vertical-align: top;\n",
       "    }\n",
       "\n",
       "    .dataframe thead th {\n",
       "        text-align: right;\n",
       "    }\n",
       "</style>\n",
       "<table border=\"1\" class=\"dataframe\">\n",
       "  <thead>\n",
       "    <tr style=\"text-align: right;\">\n",
       "      <th></th>\n",
       "      <th>first_name</th>\n",
       "      <th>gender</th>\n",
       "      <th>start_date</th>\n",
       "      <th>last_login_time</th>\n",
       "      <th>salary</th>\n",
       "      <th>bonus_%</th>\n",
       "      <th>senior_management</th>\n",
       "      <th>team</th>\n",
       "      <th>start_date_pro</th>\n",
       "      <th>iYEAR</th>\n",
       "      <th>sal_con</th>\n",
       "    </tr>\n",
       "  </thead>\n",
       "  <tbody>\n",
       "    <tr>\n",
       "      <th>0</th>\n",
       "      <td>Douglas</td>\n",
       "      <td>Male</td>\n",
       "      <td>8/6/1993</td>\n",
       "      <td>12:42 PM</td>\n",
       "      <td>97308</td>\n",
       "      <td>6.945</td>\n",
       "      <td>True</td>\n",
       "      <td>Marketing</td>\n",
       "      <td>1993-08-06</td>\n",
       "      <td>1993</td>\n",
       "      <td>False</td>\n",
       "    </tr>\n",
       "    <tr>\n",
       "      <th>1</th>\n",
       "      <td>Thomas</td>\n",
       "      <td>Male</td>\n",
       "      <td>3/31/1996</td>\n",
       "      <td>6:53 AM</td>\n",
       "      <td>61933</td>\n",
       "      <td>4.170</td>\n",
       "      <td>True</td>\n",
       "      <td>NaN</td>\n",
       "      <td>1996-03-31</td>\n",
       "      <td>1996</td>\n",
       "      <td>True</td>\n",
       "    </tr>\n",
       "  </tbody>\n",
       "</table>\n",
       "</div>"
      ],
      "text/plain": [
       "  first_name gender start_date last_login_time  salary  bonus_%  \\\n",
       "0    Douglas   Male   8/6/1993        12:42 PM   97308    6.945   \n",
       "1     Thomas   Male  3/31/1996         6:53 AM   61933    4.170   \n",
       "\n",
       "  senior_management       team start_date_pro  iYEAR  sal_con  \n",
       "0              True  Marketing     1993-08-06   1993    False  \n",
       "1              True        NaN     1996-03-31   1996     True  "
      ]
     },
     "execution_count": 70,
     "metadata": {},
     "output_type": "execute_result"
    }
   ],
   "source": [
    "#or | and &\n",
    "df[filter1 | filter2 ].head(2)"
   ]
  },
  {
   "cell_type": "markdown",
   "id": "3d15d3c2",
   "metadata": {},
   "source": [
    "# Dealing with duplicates"
   ]
  },
  {
   "cell_type": "code",
   "execution_count": 79,
   "id": "ac8ee9b5",
   "metadata": {},
   "outputs": [
    {
     "data": {
      "text/plain": [
       "(1000, 11)"
      ]
     },
     "execution_count": 79,
     "metadata": {},
     "output_type": "execute_result"
    }
   ],
   "source": [
    "df.shape"
   ]
  },
  {
   "cell_type": "code",
   "execution_count": 166,
   "id": "d6ace57d",
   "metadata": {},
   "outputs": [
    {
     "data": {
      "text/plain": [
       "200"
      ]
     },
     "execution_count": 166,
     "metadata": {},
     "output_type": "execute_result"
    }
   ],
   "source": [
    "df.first_name.nunique()"
   ]
  },
  {
   "cell_type": "code",
   "execution_count": 167,
   "id": "ce8688f2",
   "metadata": {},
   "outputs": [],
   "source": [
    "df_new=df.copy()"
   ]
  },
  {
   "cell_type": "code",
   "execution_count": 168,
   "id": "c1489e7d",
   "metadata": {},
   "outputs": [
    {
     "data": {
      "text/plain": [
       "(1000, 10)"
      ]
     },
     "execution_count": 168,
     "metadata": {},
     "output_type": "execute_result"
    }
   ],
   "source": [
    "df_new.shape"
   ]
  },
  {
   "cell_type": "code",
   "execution_count": 172,
   "id": "ba2382fc",
   "metadata": {},
   "outputs": [
    {
     "data": {
      "text/plain": [
       "(201,)"
      ]
     },
     "execution_count": 172,
     "metadata": {},
     "output_type": "execute_result"
    }
   ],
   "source": [
    "df_new.first_name.drop_duplicates().shape"
   ]
  },
  {
   "cell_type": "code",
   "execution_count": 176,
   "id": "5c17511e",
   "metadata": {},
   "outputs": [
    {
     "data": {
      "text/plain": [
       "(201,)"
      ]
     },
     "execution_count": 176,
     "metadata": {},
     "output_type": "execute_result"
    }
   ],
   "source": [
    "df_new.first_name.drop_duplicates(keep='first').shape"
   ]
  },
  {
   "cell_type": "code",
   "execution_count": 179,
   "id": "62e0c07d",
   "metadata": {},
   "outputs": [
    {
     "data": {
      "text/html": [
       "<div>\n",
       "<style scoped>\n",
       "    .dataframe tbody tr th:only-of-type {\n",
       "        vertical-align: middle;\n",
       "    }\n",
       "\n",
       "    .dataframe tbody tr th {\n",
       "        vertical-align: top;\n",
       "    }\n",
       "\n",
       "    .dataframe thead th {\n",
       "        text-align: right;\n",
       "    }\n",
       "</style>\n",
       "<table border=\"1\" class=\"dataframe\">\n",
       "  <thead>\n",
       "    <tr style=\"text-align: right;\">\n",
       "      <th></th>\n",
       "      <th>first_name</th>\n",
       "      <th>gender</th>\n",
       "      <th>start_date</th>\n",
       "      <th>last_login_time</th>\n",
       "      <th>salary</th>\n",
       "      <th>bonus_%</th>\n",
       "      <th>senior_management</th>\n",
       "      <th>team</th>\n",
       "      <th>start_date_pro</th>\n",
       "      <th>sal_con</th>\n",
       "    </tr>\n",
       "  </thead>\n",
       "  <tbody>\n",
       "    <tr>\n",
       "      <th>0</th>\n",
       "      <td>Douglas</td>\n",
       "      <td>Male</td>\n",
       "      <td>8/6/1993</td>\n",
       "      <td>12:42 PM</td>\n",
       "      <td>97308</td>\n",
       "      <td>6.945</td>\n",
       "      <td>True</td>\n",
       "      <td>Marketing</td>\n",
       "      <td>1993-08-06</td>\n",
       "      <td>False</td>\n",
       "    </tr>\n",
       "    <tr>\n",
       "      <th>1</th>\n",
       "      <td>Thomas</td>\n",
       "      <td>Male</td>\n",
       "      <td>3/31/1996</td>\n",
       "      <td>6:53 AM</td>\n",
       "      <td>61933</td>\n",
       "      <td>4.170</td>\n",
       "      <td>True</td>\n",
       "      <td>NaN</td>\n",
       "      <td>1996-03-31</td>\n",
       "      <td>True</td>\n",
       "    </tr>\n",
       "  </tbody>\n",
       "</table>\n",
       "</div>"
      ],
      "text/plain": [
       "  first_name gender start_date last_login_time  salary  bonus_%  \\\n",
       "0    Douglas   Male   8/6/1993        12:42 PM   97308    6.945   \n",
       "1     Thomas   Male  3/31/1996         6:53 AM   61933    4.170   \n",
       "\n",
       "  senior_management       team start_date_pro  sal_con  \n",
       "0              True  Marketing     1993-08-06    False  \n",
       "1              True        NaN     1996-03-31     True  "
      ]
     },
     "execution_count": 179,
     "metadata": {},
     "output_type": "execute_result"
    }
   ],
   "source": [
    "df_new.drop_duplicates(subset=['first_name'], keep='first').head(2)"
   ]
  },
  {
   "cell_type": "markdown",
   "id": "bf8bf86a",
   "metadata": {},
   "source": [
    "# Dataset James Bond"
   ]
  },
  {
   "cell_type": "code",
   "execution_count": 84,
   "id": "ff96233b",
   "metadata": {},
   "outputs": [],
   "source": [
    "#df=pd.read_csv(\"C:/Users/powel/OneDrive/Desktop/Upgrad/employees.csv\")\n",
    "# df=pd.read_csv(\"C:/Users/powel/OneDrive/Desktop/Upgrad/fortune1000.csv\")\n",
    "df=pd.read_csv(\"/Users/vicky/Downloads/Python DS/6. Pandas/jamesbond.csv\")\n",
    "# df=pd.read_csv(\"C:/Users/powel/OneDrive/Desktop/Upgrad/nba.csv\")\n"
   ]
  },
  {
   "cell_type": "code",
   "execution_count": 85,
   "id": "36af335c",
   "metadata": {},
   "outputs": [
    {
     "data": {
      "text/html": [
       "<div>\n",
       "<style scoped>\n",
       "    .dataframe tbody tr th:only-of-type {\n",
       "        vertical-align: middle;\n",
       "    }\n",
       "\n",
       "    .dataframe tbody tr th {\n",
       "        vertical-align: top;\n",
       "    }\n",
       "\n",
       "    .dataframe thead th {\n",
       "        text-align: right;\n",
       "    }\n",
       "</style>\n",
       "<table border=\"1\" class=\"dataframe\">\n",
       "  <thead>\n",
       "    <tr style=\"text-align: right;\">\n",
       "      <th></th>\n",
       "      <th>Film</th>\n",
       "      <th>Year</th>\n",
       "      <th>Actor</th>\n",
       "      <th>Director</th>\n",
       "      <th>Box Office</th>\n",
       "      <th>Budget</th>\n",
       "      <th>Bond Actor Salary</th>\n",
       "    </tr>\n",
       "  </thead>\n",
       "  <tbody>\n",
       "    <tr>\n",
       "      <th>0</th>\n",
       "      <td>Dr. No</td>\n",
       "      <td>1962</td>\n",
       "      <td>Sean Connery</td>\n",
       "      <td>Terence Young</td>\n",
       "      <td>448.8</td>\n",
       "      <td>7.0</td>\n",
       "      <td>0.6</td>\n",
       "    </tr>\n",
       "    <tr>\n",
       "      <th>1</th>\n",
       "      <td>From Russia with Love</td>\n",
       "      <td>1963</td>\n",
       "      <td>Sean Connery</td>\n",
       "      <td>Terence Young</td>\n",
       "      <td>543.8</td>\n",
       "      <td>12.6</td>\n",
       "      <td>1.6</td>\n",
       "    </tr>\n",
       "    <tr>\n",
       "      <th>2</th>\n",
       "      <td>Goldfinger</td>\n",
       "      <td>1964</td>\n",
       "      <td>Sean Connery</td>\n",
       "      <td>Guy Hamilton</td>\n",
       "      <td>820.4</td>\n",
       "      <td>18.6</td>\n",
       "      <td>3.2</td>\n",
       "    </tr>\n",
       "    <tr>\n",
       "      <th>3</th>\n",
       "      <td>Thunderball</td>\n",
       "      <td>1965</td>\n",
       "      <td>Sean Connery</td>\n",
       "      <td>Terence Young</td>\n",
       "      <td>848.1</td>\n",
       "      <td>41.9</td>\n",
       "      <td>4.7</td>\n",
       "    </tr>\n",
       "    <tr>\n",
       "      <th>4</th>\n",
       "      <td>Casino Royale</td>\n",
       "      <td>1967</td>\n",
       "      <td>David Niven</td>\n",
       "      <td>Ken Hughes</td>\n",
       "      <td>315.0</td>\n",
       "      <td>85.0</td>\n",
       "      <td>NaN</td>\n",
       "    </tr>\n",
       "  </tbody>\n",
       "</table>\n",
       "</div>"
      ],
      "text/plain": [
       "                    Film  Year         Actor       Director  Box Office  \\\n",
       "0                 Dr. No  1962  Sean Connery  Terence Young       448.8   \n",
       "1  From Russia with Love  1963  Sean Connery  Terence Young       543.8   \n",
       "2             Goldfinger  1964  Sean Connery   Guy Hamilton       820.4   \n",
       "3            Thunderball  1965  Sean Connery  Terence Young       848.1   \n",
       "4          Casino Royale  1967   David Niven     Ken Hughes       315.0   \n",
       "\n",
       "   Budget  Bond Actor Salary  \n",
       "0     7.0                0.6  \n",
       "1    12.6                1.6  \n",
       "2    18.6                3.2  \n",
       "3    41.9                4.7  \n",
       "4    85.0                NaN  "
      ]
     },
     "execution_count": 85,
     "metadata": {},
     "output_type": "execute_result"
    }
   ],
   "source": [
    "df.head()"
   ]
  },
  {
   "cell_type": "code",
   "execution_count": 86,
   "id": "a9b824c3",
   "metadata": {},
   "outputs": [
    {
     "data": {
      "text/plain": [
       "Film                  object\n",
       "Year                   int64\n",
       "Actor                 object\n",
       "Director              object\n",
       "Box Office           float64\n",
       "Budget               float64\n",
       "Bond Actor Salary    float64\n",
       "dtype: object"
      ]
     },
     "execution_count": 86,
     "metadata": {},
     "output_type": "execute_result"
    }
   ],
   "source": [
    "df.dtypes"
   ]
  },
  {
   "cell_type": "code",
   "execution_count": 87,
   "id": "8fcf9b35",
   "metadata": {},
   "outputs": [],
   "source": [
    "df['Box Office']=df['Box Office'].astype(int)"
   ]
  },
  {
   "cell_type": "code",
   "execution_count": 88,
   "id": "87e39515",
   "metadata": {},
   "outputs": [
    {
     "data": {
      "text/plain": [
       "Film                  object\n",
       "Year                   int64\n",
       "Actor                 object\n",
       "Director              object\n",
       "Box Office             int64\n",
       "Budget               float64\n",
       "Bond Actor Salary    float64\n",
       "dtype: object"
      ]
     },
     "execution_count": 88,
     "metadata": {},
     "output_type": "execute_result"
    }
   ],
   "source": [
    "df.dtypes"
   ]
  },
  {
   "cell_type": "code",
   "execution_count": 89,
   "id": "fdbb7eb6",
   "metadata": {},
   "outputs": [
    {
     "data": {
      "text/html": [
       "<div>\n",
       "<style scoped>\n",
       "    .dataframe tbody tr th:only-of-type {\n",
       "        vertical-align: middle;\n",
       "    }\n",
       "\n",
       "    .dataframe tbody tr th {\n",
       "        vertical-align: top;\n",
       "    }\n",
       "\n",
       "    .dataframe thead th {\n",
       "        text-align: right;\n",
       "    }\n",
       "</style>\n",
       "<table border=\"1\" class=\"dataframe\">\n",
       "  <thead>\n",
       "    <tr style=\"text-align: right;\">\n",
       "      <th></th>\n",
       "      <th>Film</th>\n",
       "      <th>Year</th>\n",
       "      <th>Actor</th>\n",
       "      <th>Director</th>\n",
       "      <th>Box Office</th>\n",
       "      <th>Budget</th>\n",
       "      <th>Bond Actor Salary</th>\n",
       "    </tr>\n",
       "  </thead>\n",
       "  <tbody>\n",
       "    <tr>\n",
       "      <th>0</th>\n",
       "      <td>Dr. No</td>\n",
       "      <td>1962</td>\n",
       "      <td>Sean Connery</td>\n",
       "      <td>Terence Young</td>\n",
       "      <td>448</td>\n",
       "      <td>7.0</td>\n",
       "      <td>0.6</td>\n",
       "    </tr>\n",
       "    <tr>\n",
       "      <th>1</th>\n",
       "      <td>From Russia with Love</td>\n",
       "      <td>1963</td>\n",
       "      <td>Sean Connery</td>\n",
       "      <td>Terence Young</td>\n",
       "      <td>543</td>\n",
       "      <td>12.6</td>\n",
       "      <td>1.6</td>\n",
       "    </tr>\n",
       "    <tr>\n",
       "      <th>2</th>\n",
       "      <td>Goldfinger</td>\n",
       "      <td>1964</td>\n",
       "      <td>Sean Connery</td>\n",
       "      <td>Guy Hamilton</td>\n",
       "      <td>820</td>\n",
       "      <td>18.6</td>\n",
       "      <td>3.2</td>\n",
       "    </tr>\n",
       "    <tr>\n",
       "      <th>3</th>\n",
       "      <td>Thunderball</td>\n",
       "      <td>1965</td>\n",
       "      <td>Sean Connery</td>\n",
       "      <td>Terence Young</td>\n",
       "      <td>848</td>\n",
       "      <td>41.9</td>\n",
       "      <td>4.7</td>\n",
       "    </tr>\n",
       "    <tr>\n",
       "      <th>4</th>\n",
       "      <td>Casino Royale</td>\n",
       "      <td>1967</td>\n",
       "      <td>David Niven</td>\n",
       "      <td>Ken Hughes</td>\n",
       "      <td>315</td>\n",
       "      <td>85.0</td>\n",
       "      <td>NaN</td>\n",
       "    </tr>\n",
       "  </tbody>\n",
       "</table>\n",
       "</div>"
      ],
      "text/plain": [
       "                    Film  Year         Actor       Director  Box Office  \\\n",
       "0                 Dr. No  1962  Sean Connery  Terence Young         448   \n",
       "1  From Russia with Love  1963  Sean Connery  Terence Young         543   \n",
       "2             Goldfinger  1964  Sean Connery   Guy Hamilton         820   \n",
       "3            Thunderball  1965  Sean Connery  Terence Young         848   \n",
       "4          Casino Royale  1967   David Niven     Ken Hughes         315   \n",
       "\n",
       "   Budget  Bond Actor Salary  \n",
       "0     7.0                0.6  \n",
       "1    12.6                1.6  \n",
       "2    18.6                3.2  \n",
       "3    41.9                4.7  \n",
       "4    85.0                NaN  "
      ]
     },
     "execution_count": 89,
     "metadata": {},
     "output_type": "execute_result"
    }
   ],
   "source": [
    "df.head()"
   ]
  },
  {
   "cell_type": "code",
   "execution_count": 90,
   "id": "0490a78f",
   "metadata": {},
   "outputs": [
    {
     "data": {
      "text/plain": [
       "Film                   Thunderball\n",
       "Year                          1965\n",
       "Actor                 Sean Connery\n",
       "Director             Terence Young\n",
       "Box Office                     848\n",
       "Budget                        41.9\n",
       "Bond Actor Salary              4.7\n",
       "Name: 3, dtype: object"
      ]
     },
     "execution_count": 90,
     "metadata": {},
     "output_type": "execute_result"
    }
   ],
   "source": [
    "# iloc and loc\n",
    "df.iloc[3]"
   ]
  },
  {
   "cell_type": "code",
   "execution_count": 93,
   "id": "39b45f78",
   "metadata": {},
   "outputs": [],
   "source": [
    "df_new=df.copy()\n",
    "#df_new=df_new.set_index('Film')\n",
    "df_new.set_index('Film',inplace=True)"
   ]
  },
  {
   "cell_type": "code",
   "execution_count": 94,
   "id": "21b605d4",
   "metadata": {},
   "outputs": [
    {
     "data": {
      "text/html": [
       "<div>\n",
       "<style scoped>\n",
       "    .dataframe tbody tr th:only-of-type {\n",
       "        vertical-align: middle;\n",
       "    }\n",
       "\n",
       "    .dataframe tbody tr th {\n",
       "        vertical-align: top;\n",
       "    }\n",
       "\n",
       "    .dataframe thead th {\n",
       "        text-align: right;\n",
       "    }\n",
       "</style>\n",
       "<table border=\"1\" class=\"dataframe\">\n",
       "  <thead>\n",
       "    <tr style=\"text-align: right;\">\n",
       "      <th></th>\n",
       "      <th>Year</th>\n",
       "      <th>Actor</th>\n",
       "      <th>Director</th>\n",
       "      <th>Box Office</th>\n",
       "      <th>Budget</th>\n",
       "      <th>Bond Actor Salary</th>\n",
       "    </tr>\n",
       "    <tr>\n",
       "      <th>Film</th>\n",
       "      <th></th>\n",
       "      <th></th>\n",
       "      <th></th>\n",
       "      <th></th>\n",
       "      <th></th>\n",
       "      <th></th>\n",
       "    </tr>\n",
       "  </thead>\n",
       "  <tbody>\n",
       "    <tr>\n",
       "      <th>Dr. No</th>\n",
       "      <td>1962</td>\n",
       "      <td>Sean Connery</td>\n",
       "      <td>Terence Young</td>\n",
       "      <td>448</td>\n",
       "      <td>7.0</td>\n",
       "      <td>0.6</td>\n",
       "    </tr>\n",
       "    <tr>\n",
       "      <th>From Russia with Love</th>\n",
       "      <td>1963</td>\n",
       "      <td>Sean Connery</td>\n",
       "      <td>Terence Young</td>\n",
       "      <td>543</td>\n",
       "      <td>12.6</td>\n",
       "      <td>1.6</td>\n",
       "    </tr>\n",
       "    <tr>\n",
       "      <th>Goldfinger</th>\n",
       "      <td>1964</td>\n",
       "      <td>Sean Connery</td>\n",
       "      <td>Guy Hamilton</td>\n",
       "      <td>820</td>\n",
       "      <td>18.6</td>\n",
       "      <td>3.2</td>\n",
       "    </tr>\n",
       "    <tr>\n",
       "      <th>Thunderball</th>\n",
       "      <td>1965</td>\n",
       "      <td>Sean Connery</td>\n",
       "      <td>Terence Young</td>\n",
       "      <td>848</td>\n",
       "      <td>41.9</td>\n",
       "      <td>4.7</td>\n",
       "    </tr>\n",
       "    <tr>\n",
       "      <th>Casino Royale</th>\n",
       "      <td>1967</td>\n",
       "      <td>David Niven</td>\n",
       "      <td>Ken Hughes</td>\n",
       "      <td>315</td>\n",
       "      <td>85.0</td>\n",
       "      <td>NaN</td>\n",
       "    </tr>\n",
       "  </tbody>\n",
       "</table>\n",
       "</div>"
      ],
      "text/plain": [
       "                       Year         Actor       Director  Box Office  Budget  \\\n",
       "Film                                                                           \n",
       "Dr. No                 1962  Sean Connery  Terence Young         448     7.0   \n",
       "From Russia with Love  1963  Sean Connery  Terence Young         543    12.6   \n",
       "Goldfinger             1964  Sean Connery   Guy Hamilton         820    18.6   \n",
       "Thunderball            1965  Sean Connery  Terence Young         848    41.9   \n",
       "Casino Royale          1967   David Niven     Ken Hughes         315    85.0   \n",
       "\n",
       "                       Bond Actor Salary  \n",
       "Film                                      \n",
       "Dr. No                               0.6  \n",
       "From Russia with Love                1.6  \n",
       "Goldfinger                           3.2  \n",
       "Thunderball                          4.7  \n",
       "Casino Royale                        NaN  "
      ]
     },
     "execution_count": 94,
     "metadata": {},
     "output_type": "execute_result"
    }
   ],
   "source": [
    "df_new.head()"
   ]
  },
  {
   "cell_type": "code",
   "execution_count": 95,
   "id": "c91ac726",
   "metadata": {},
   "outputs": [
    {
     "data": {
      "text/plain": [
       "Year                         1964\n",
       "Actor                Sean Connery\n",
       "Director             Guy Hamilton\n",
       "Box Office                    820\n",
       "Budget                       18.6\n",
       "Bond Actor Salary             3.2\n",
       "Name: Goldfinger, dtype: object"
      ]
     },
     "execution_count": 95,
     "metadata": {},
     "output_type": "execute_result"
    }
   ],
   "source": [
    "df_new.loc['Goldfinger']\n",
    "# iloc is used for accessing rows/records using numeric row index\n",
    "# loc is used to access rows using labeles/category index "
   ]
  },
  {
   "cell_type": "code",
   "execution_count": 96,
   "id": "9b264192",
   "metadata": {},
   "outputs": [
    {
     "name": "stdout",
     "output_type": "stream",
     "text": [
      "<class 'pandas.core.frame.DataFrame'>\n",
      "RangeIndex: 26 entries, 0 to 25\n",
      "Data columns (total 7 columns):\n",
      " #   Column             Non-Null Count  Dtype  \n",
      "---  ------             --------------  -----  \n",
      " 0   Film               26 non-null     object \n",
      " 1   Year               26 non-null     int64  \n",
      " 2   Actor              26 non-null     object \n",
      " 3   Director           26 non-null     object \n",
      " 4   Box Office         26 non-null     int64  \n",
      " 5   Budget             26 non-null     float64\n",
      " 6   Bond Actor Salary  18 non-null     float64\n",
      "dtypes: float64(2), int64(2), object(3)\n",
      "memory usage: 1.5+ KB\n"
     ]
    }
   ],
   "source": [
    "df.info()"
   ]
  },
  {
   "cell_type": "code",
   "execution_count": 97,
   "id": "7a150834",
   "metadata": {},
   "outputs": [
    {
     "data": {
      "text/html": [
       "<div>\n",
       "<style scoped>\n",
       "    .dataframe tbody tr th:only-of-type {\n",
       "        vertical-align: middle;\n",
       "    }\n",
       "\n",
       "    .dataframe tbody tr th {\n",
       "        vertical-align: top;\n",
       "    }\n",
       "\n",
       "    .dataframe thead th {\n",
       "        text-align: right;\n",
       "    }\n",
       "</style>\n",
       "<table border=\"1\" class=\"dataframe\">\n",
       "  <thead>\n",
       "    <tr style=\"text-align: right;\">\n",
       "      <th></th>\n",
       "      <th>Year</th>\n",
       "      <th>Box Office</th>\n",
       "      <th>Budget</th>\n",
       "      <th>Bond Actor Salary</th>\n",
       "    </tr>\n",
       "  </thead>\n",
       "  <tbody>\n",
       "    <tr>\n",
       "      <th>count</th>\n",
       "      <td>26.000000</td>\n",
       "      <td>26.000000</td>\n",
       "      <td>26.000000</td>\n",
       "      <td>18.000000</td>\n",
       "    </tr>\n",
       "    <tr>\n",
       "      <th>mean</th>\n",
       "      <td>1983.576923</td>\n",
       "      <td>491.230769</td>\n",
       "      <td>80.719231</td>\n",
       "      <td>6.850000</td>\n",
       "    </tr>\n",
       "    <tr>\n",
       "      <th>std</th>\n",
       "      <td>16.295209</td>\n",
       "      <td>176.741463</td>\n",
       "      <td>57.097608</td>\n",
       "      <td>4.805175</td>\n",
       "    </tr>\n",
       "    <tr>\n",
       "      <th>min</th>\n",
       "      <td>1962.000000</td>\n",
       "      <td>250.000000</td>\n",
       "      <td>7.000000</td>\n",
       "      <td>0.600000</td>\n",
       "    </tr>\n",
       "    <tr>\n",
       "      <th>25%</th>\n",
       "      <td>1969.500000</td>\n",
       "      <td>374.750000</td>\n",
       "      <td>38.450000</td>\n",
       "      <td>3.575000</td>\n",
       "    </tr>\n",
       "    <tr>\n",
       "      <th>50%</th>\n",
       "      <td>1982.000000</td>\n",
       "      <td>461.500000</td>\n",
       "      <td>60.050000</td>\n",
       "      <td>5.500000</td>\n",
       "    </tr>\n",
       "    <tr>\n",
       "      <th>75%</th>\n",
       "      <td>1996.500000</td>\n",
       "      <td>534.500000</td>\n",
       "      <td>123.300000</td>\n",
       "      <td>8.850000</td>\n",
       "    </tr>\n",
       "    <tr>\n",
       "      <th>max</th>\n",
       "      <td>2015.000000</td>\n",
       "      <td>943.000000</td>\n",
       "      <td>206.300000</td>\n",
       "      <td>17.900000</td>\n",
       "    </tr>\n",
       "  </tbody>\n",
       "</table>\n",
       "</div>"
      ],
      "text/plain": [
       "              Year  Box Office      Budget  Bond Actor Salary\n",
       "count    26.000000   26.000000   26.000000          18.000000\n",
       "mean   1983.576923  491.230769   80.719231           6.850000\n",
       "std      16.295209  176.741463   57.097608           4.805175\n",
       "min    1962.000000  250.000000    7.000000           0.600000\n",
       "25%    1969.500000  374.750000   38.450000           3.575000\n",
       "50%    1982.000000  461.500000   60.050000           5.500000\n",
       "75%    1996.500000  534.500000  123.300000           8.850000\n",
       "max    2015.000000  943.000000  206.300000          17.900000"
      ]
     },
     "execution_count": 97,
     "metadata": {},
     "output_type": "execute_result"
    }
   ],
   "source": [
    "df.describe()"
   ]
  },
  {
   "cell_type": "code",
   "execution_count": 200,
   "id": "77d37a88",
   "metadata": {},
   "outputs": [
    {
     "data": {
      "text/plain": [
       "count               26\n",
       "unique               7\n",
       "top       Sean Connery\n",
       "freq                 7\n",
       "Name: Actor, dtype: object"
      ]
     },
     "execution_count": 200,
     "metadata": {},
     "output_type": "execute_result"
    }
   ],
   "source": [
    "df.Actor.describe()"
   ]
  },
  {
   "cell_type": "markdown",
   "id": "5b17aaea",
   "metadata": {},
   "source": [
    "# fortune1000"
   ]
  },
  {
   "cell_type": "code",
   "execution_count": 98,
   "id": "aaa9fb9f",
   "metadata": {},
   "outputs": [],
   "source": [
    "#df=pd.read_csv(\"C:/Users/powel/OneDrive/Desktop/Upgrad/employees.csv\")\n",
    "df=pd.read_csv(\"/Users/vicky/Downloads/Python DS/6. Pandas/fortune1000.csv\")\n",
    "#df=pd.read_csv(\"C:/Users/powel/OneDrive/Desktop/Upgrad/jamesbond.csv\")\n",
    "# df=pd.read_csv(\"C:/Users/powel/OneDrive/Desktop/Upgrad/nba.csv\")\n"
   ]
  },
  {
   "cell_type": "code",
   "execution_count": 99,
   "id": "ee85579d",
   "metadata": {},
   "outputs": [
    {
     "data": {
      "text/html": [
       "<div>\n",
       "<style scoped>\n",
       "    .dataframe tbody tr th:only-of-type {\n",
       "        vertical-align: middle;\n",
       "    }\n",
       "\n",
       "    .dataframe tbody tr th {\n",
       "        vertical-align: top;\n",
       "    }\n",
       "\n",
       "    .dataframe thead th {\n",
       "        text-align: right;\n",
       "    }\n",
       "</style>\n",
       "<table border=\"1\" class=\"dataframe\">\n",
       "  <thead>\n",
       "    <tr style=\"text-align: right;\">\n",
       "      <th></th>\n",
       "      <th>Rank</th>\n",
       "      <th>Company</th>\n",
       "      <th>Sector</th>\n",
       "      <th>Industry</th>\n",
       "      <th>Location</th>\n",
       "      <th>Revenue</th>\n",
       "      <th>Profits</th>\n",
       "      <th>Employees</th>\n",
       "    </tr>\n",
       "  </thead>\n",
       "  <tbody>\n",
       "    <tr>\n",
       "      <th>0</th>\n",
       "      <td>1</td>\n",
       "      <td>Walmart</td>\n",
       "      <td>Retailing</td>\n",
       "      <td>General Merchandisers</td>\n",
       "      <td>Bentonville, AR</td>\n",
       "      <td>482130</td>\n",
       "      <td>14694</td>\n",
       "      <td>2300000</td>\n",
       "    </tr>\n",
       "    <tr>\n",
       "      <th>1</th>\n",
       "      <td>2</td>\n",
       "      <td>Exxon Mobil</td>\n",
       "      <td>Energy</td>\n",
       "      <td>Petroleum Refining</td>\n",
       "      <td>Irving, TX</td>\n",
       "      <td>246204</td>\n",
       "      <td>16150</td>\n",
       "      <td>75600</td>\n",
       "    </tr>\n",
       "    <tr>\n",
       "      <th>2</th>\n",
       "      <td>3</td>\n",
       "      <td>Apple</td>\n",
       "      <td>Technology</td>\n",
       "      <td>Computers, Office Equipment</td>\n",
       "      <td>Cupertino, CA</td>\n",
       "      <td>233715</td>\n",
       "      <td>53394</td>\n",
       "      <td>110000</td>\n",
       "    </tr>\n",
       "    <tr>\n",
       "      <th>3</th>\n",
       "      <td>4</td>\n",
       "      <td>Berkshire Hathaway</td>\n",
       "      <td>Financials</td>\n",
       "      <td>Insurance: Property and Casualty (Stock)</td>\n",
       "      <td>Omaha, NE</td>\n",
       "      <td>210821</td>\n",
       "      <td>24083</td>\n",
       "      <td>331000</td>\n",
       "    </tr>\n",
       "    <tr>\n",
       "      <th>4</th>\n",
       "      <td>5</td>\n",
       "      <td>McKesson</td>\n",
       "      <td>Health Care</td>\n",
       "      <td>Wholesalers: Health Care</td>\n",
       "      <td>San Francisco, CA</td>\n",
       "      <td>181241</td>\n",
       "      <td>1476</td>\n",
       "      <td>70400</td>\n",
       "    </tr>\n",
       "  </tbody>\n",
       "</table>\n",
       "</div>"
      ],
      "text/plain": [
       "   Rank             Company       Sector  \\\n",
       "0     1             Walmart    Retailing   \n",
       "1     2         Exxon Mobil       Energy   \n",
       "2     3               Apple   Technology   \n",
       "3     4  Berkshire Hathaway   Financials   \n",
       "4     5            McKesson  Health Care   \n",
       "\n",
       "                                   Industry           Location  Revenue  \\\n",
       "0                     General Merchandisers    Bentonville, AR   482130   \n",
       "1                        Petroleum Refining         Irving, TX   246204   \n",
       "2               Computers, Office Equipment      Cupertino, CA   233715   \n",
       "3  Insurance: Property and Casualty (Stock)          Omaha, NE   210821   \n",
       "4                  Wholesalers: Health Care  San Francisco, CA   181241   \n",
       "\n",
       "   Profits  Employees  \n",
       "0    14694    2300000  \n",
       "1    16150      75600  \n",
       "2    53394     110000  \n",
       "3    24083     331000  \n",
       "4     1476      70400  "
      ]
     },
     "execution_count": 99,
     "metadata": {},
     "output_type": "execute_result"
    }
   ],
   "source": [
    "df.head()"
   ]
  },
  {
   "cell_type": "code",
   "execution_count": 82,
   "id": "444149bc",
   "metadata": {},
   "outputs": [
    {
     "data": {
      "text/plain": [
       "21"
      ]
     },
     "execution_count": 82,
     "metadata": {},
     "output_type": "execute_result"
    }
   ],
   "source": [
    "df.Sector.nunique()"
   ]
  },
  {
   "cell_type": "code",
   "execution_count": 100,
   "id": "4b9f0906",
   "metadata": {},
   "outputs": [
    {
     "data": {
      "text/plain": [
       "Financials                      139\n",
       "Energy                          122\n",
       "Technology                      102\n",
       "Retailing                        80\n",
       "Health Care                      75\n",
       "Business Services                51\n",
       "Industrials                      46\n",
       "Materials                        43\n",
       "Food, Beverages & Tobacco        43\n",
       "Wholesalers                      40\n",
       "Transportation                   36\n",
       "Chemicals                        30\n",
       "Household Products               28\n",
       "Engineering & Construction       26\n",
       "Media                            25\n",
       "Hotels, Resturants & Leisure     25\n",
       "Motor Vehicles & Parts           24\n",
       "Aerospace & Defense              20\n",
       "Telecommunications               15\n",
       "Apparel                          15\n",
       "Food and Drug Stores             15\n",
       "Name: Sector, dtype: int64"
      ]
     },
     "execution_count": 100,
     "metadata": {},
     "output_type": "execute_result"
    }
   ],
   "source": [
    "df.Sector.value_counts()"
   ]
  },
  {
   "cell_type": "code",
   "execution_count": 101,
   "id": "1f4cf59b",
   "metadata": {},
   "outputs": [
    {
     "data": {
      "text/plain": [
       "Sector\n",
       "Aerospace & Defense              20\n",
       "Apparel                          15\n",
       "Business Services                51\n",
       "Chemicals                        30\n",
       "Energy                          122\n",
       "Engineering & Construction       26\n",
       "Financials                      139\n",
       "Food and Drug Stores             15\n",
       "Food, Beverages & Tobacco        43\n",
       "Health Care                      75\n",
       "Hotels, Resturants & Leisure     25\n",
       "Household Products               28\n",
       "Industrials                      46\n",
       "Materials                        43\n",
       "Media                            25\n",
       "Motor Vehicles & Parts           24\n",
       "Retailing                        80\n",
       "Technology                      102\n",
       "Telecommunications               15\n",
       "Transportation                   36\n",
       "Wholesalers                      40\n",
       "Name: Sector, dtype: int64"
      ]
     },
     "execution_count": 101,
     "metadata": {},
     "output_type": "execute_result"
    }
   ],
   "source": [
    "df.groupby('Sector')['Sector'].count()"
   ]
  },
  {
   "cell_type": "code",
   "execution_count": 108,
   "id": "9518e5c2",
   "metadata": {},
   "outputs": [
    {
     "data": {
      "text/html": [
       "<div>\n",
       "<style scoped>\n",
       "    .dataframe tbody tr th:only-of-type {\n",
       "        vertical-align: middle;\n",
       "    }\n",
       "\n",
       "    .dataframe tbody tr th {\n",
       "        vertical-align: top;\n",
       "    }\n",
       "\n",
       "    .dataframe thead tr th {\n",
       "        text-align: left;\n",
       "    }\n",
       "\n",
       "    .dataframe thead tr:last-of-type th {\n",
       "        text-align: right;\n",
       "    }\n",
       "</style>\n",
       "<table border=\"1\" class=\"dataframe\">\n",
       "  <thead>\n",
       "    <tr>\n",
       "      <th></th>\n",
       "      <th colspan=\"8\" halign=\"left\">Rank</th>\n",
       "      <th colspan=\"2\" halign=\"left\">Revenue</th>\n",
       "      <th>...</th>\n",
       "      <th colspan=\"2\" halign=\"left\">Profits</th>\n",
       "      <th colspan=\"8\" halign=\"left\">Employees</th>\n",
       "    </tr>\n",
       "    <tr>\n",
       "      <th></th>\n",
       "      <th>count</th>\n",
       "      <th>mean</th>\n",
       "      <th>std</th>\n",
       "      <th>min</th>\n",
       "      <th>25%</th>\n",
       "      <th>50%</th>\n",
       "      <th>75%</th>\n",
       "      <th>max</th>\n",
       "      <th>count</th>\n",
       "      <th>mean</th>\n",
       "      <th>...</th>\n",
       "      <th>75%</th>\n",
       "      <th>max</th>\n",
       "      <th>count</th>\n",
       "      <th>mean</th>\n",
       "      <th>std</th>\n",
       "      <th>min</th>\n",
       "      <th>25%</th>\n",
       "      <th>50%</th>\n",
       "      <th>75%</th>\n",
       "      <th>max</th>\n",
       "    </tr>\n",
       "    <tr>\n",
       "      <th>Sector</th>\n",
       "      <th></th>\n",
       "      <th></th>\n",
       "      <th></th>\n",
       "      <th></th>\n",
       "      <th></th>\n",
       "      <th></th>\n",
       "      <th></th>\n",
       "      <th></th>\n",
       "      <th></th>\n",
       "      <th></th>\n",
       "      <th></th>\n",
       "      <th></th>\n",
       "      <th></th>\n",
       "      <th></th>\n",
       "      <th></th>\n",
       "      <th></th>\n",
       "      <th></th>\n",
       "      <th></th>\n",
       "      <th></th>\n",
       "      <th></th>\n",
       "      <th></th>\n",
       "    </tr>\n",
       "  </thead>\n",
       "  <tbody>\n",
       "    <tr>\n",
       "      <th>Aerospace &amp; Defense</th>\n",
       "      <td>20.0</td>\n",
       "      <td>443.500000</td>\n",
       "      <td>336.310555</td>\n",
       "      <td>24.0</td>\n",
       "      <td>119.50</td>\n",
       "      <td>383.5</td>\n",
       "      <td>785.75</td>\n",
       "      <td>987.0</td>\n",
       "      <td>20.0</td>\n",
       "      <td>17897.000000</td>\n",
       "      <td>...</td>\n",
       "      <td>2011.00</td>\n",
       "      <td>7608.0</td>\n",
       "      <td>20.0</td>\n",
       "      <td>48402.850000</td>\n",
       "      <td>55389.486777</td>\n",
       "      <td>6955.0</td>\n",
       "      <td>11672.75</td>\n",
       "      <td>24803.0</td>\n",
       "      <td>62000.00</td>\n",
       "      <td>197200.0</td>\n",
       "    </tr>\n",
       "    <tr>\n",
       "      <th>Apparel</th>\n",
       "      <td>15.0</td>\n",
       "      <td>583.800000</td>\n",
       "      <td>249.590579</td>\n",
       "      <td>91.0</td>\n",
       "      <td>401.00</td>\n",
       "      <td>597.0</td>\n",
       "      <td>760.00</td>\n",
       "      <td>917.0</td>\n",
       "      <td>15.0</td>\n",
       "      <td>6397.866667</td>\n",
       "      <td>...</td>\n",
       "      <td>500.50</td>\n",
       "      <td>3273.0</td>\n",
       "      <td>15.0</td>\n",
       "      <td>23093.133333</td>\n",
       "      <td>21833.228179</td>\n",
       "      <td>5978.0</td>\n",
       "      <td>9259.50</td>\n",
       "      <td>13500.0</td>\n",
       "      <td>23100.00</td>\n",
       "      <td>65300.0</td>\n",
       "    </tr>\n",
       "    <tr>\n",
       "      <th>Business Services</th>\n",
       "      <td>51.0</td>\n",
       "      <td>609.294118</td>\n",
       "      <td>241.988288</td>\n",
       "      <td>144.0</td>\n",
       "      <td>422.00</td>\n",
       "      <td>694.0</td>\n",
       "      <td>794.00</td>\n",
       "      <td>993.0</td>\n",
       "      <td>51.0</td>\n",
       "      <td>5337.156863</td>\n",
       "      <td>...</td>\n",
       "      <td>653.50</td>\n",
       "      <td>6328.0</td>\n",
       "      <td>51.0</td>\n",
       "      <td>26687.254902</td>\n",
       "      <td>37717.982486</td>\n",
       "      <td>2400.0</td>\n",
       "      <td>8350.00</td>\n",
       "      <td>13000.0</td>\n",
       "      <td>24736.00</td>\n",
       "      <td>216500.0</td>\n",
       "    </tr>\n",
       "    <tr>\n",
       "      <th>Chemicals</th>\n",
       "      <td>30.0</td>\n",
       "      <td>530.933333</td>\n",
       "      <td>267.014004</td>\n",
       "      <td>56.0</td>\n",
       "      <td>279.75</td>\n",
       "      <td>573.0</td>\n",
       "      <td>723.00</td>\n",
       "      <td>949.0</td>\n",
       "      <td>30.0</td>\n",
       "      <td>8129.900000</td>\n",
       "      <td>...</td>\n",
       "      <td>1001.50</td>\n",
       "      <td>7685.0</td>\n",
       "      <td>30.0</td>\n",
       "      <td>15455.033333</td>\n",
       "      <td>15644.314440</td>\n",
       "      <td>1979.0</td>\n",
       "      <td>5282.50</td>\n",
       "      <td>7431.5</td>\n",
       "      <td>18412.50</td>\n",
       "      <td>52000.0</td>\n",
       "    </tr>\n",
       "    <tr>\n",
       "      <th>Energy</th>\n",
       "      <td>122.0</td>\n",
       "      <td>509.827869</td>\n",
       "      <td>294.434145</td>\n",
       "      <td>2.0</td>\n",
       "      <td>243.75</td>\n",
       "      <td>488.0</td>\n",
       "      <td>767.50</td>\n",
       "      <td>997.0</td>\n",
       "      <td>122.0</td>\n",
       "      <td>12441.057377</td>\n",
       "      <td>...</td>\n",
       "      <td>540.25</td>\n",
       "      <td>16150.0</td>\n",
       "      <td>122.0</td>\n",
       "      <td>9745.303279</td>\n",
       "      <td>12949.476412</td>\n",
       "      <td>480.0</td>\n",
       "      <td>2596.00</td>\n",
       "      <td>5301.5</td>\n",
       "      <td>11242.50</td>\n",
       "      <td>75600.0</td>\n",
       "    </tr>\n",
       "    <tr>\n",
       "      <th>Engineering &amp; Construction</th>\n",
       "      <td>26.0</td>\n",
       "      <td>582.576923</td>\n",
       "      <td>271.677629</td>\n",
       "      <td>155.0</td>\n",
       "      <td>359.25</td>\n",
       "      <td>544.0</td>\n",
       "      <td>852.75</td>\n",
       "      <td>994.0</td>\n",
       "      <td>26.0</td>\n",
       "      <td>5922.423077</td>\n",
       "      <td>...</td>\n",
       "      <td>309.00</td>\n",
       "      <td>803.0</td>\n",
       "      <td>26.0</td>\n",
       "      <td>15642.615385</td>\n",
       "      <td>20625.225235</td>\n",
       "      <td>1036.0</td>\n",
       "      <td>2941.25</td>\n",
       "      <td>7380.0</td>\n",
       "      <td>22000.00</td>\n",
       "      <td>92000.0</td>\n",
       "    </tr>\n",
       "    <tr>\n",
       "      <th>Financials</th>\n",
       "      <td>139.0</td>\n",
       "      <td>457.309353</td>\n",
       "      <td>291.448876</td>\n",
       "      <td>4.0</td>\n",
       "      <td>224.00</td>\n",
       "      <td>453.0</td>\n",
       "      <td>705.50</td>\n",
       "      <td>996.0</td>\n",
       "      <td>139.0</td>\n",
       "      <td>15950.784173</td>\n",
       "      <td>...</td>\n",
       "      <td>1400.00</td>\n",
       "      <td>24442.0</td>\n",
       "      <td>139.0</td>\n",
       "      <td>24172.287770</td>\n",
       "      <td>49070.504370</td>\n",
       "      <td>187.0</td>\n",
       "      <td>3500.00</td>\n",
       "      <td>7621.0</td>\n",
       "      <td>19899.00</td>\n",
       "      <td>331000.0</td>\n",
       "    </tr>\n",
       "    <tr>\n",
       "      <th>Food and Drug Stores</th>\n",
       "      <td>15.0</td>\n",
       "      <td>428.600000</td>\n",
       "      <td>349.218883</td>\n",
       "      <td>7.0</td>\n",
       "      <td>97.00</td>\n",
       "      <td>595.0</td>\n",
       "      <td>712.50</td>\n",
       "      <td>928.0</td>\n",
       "      <td>15.0</td>\n",
       "      <td>32251.266667</td>\n",
       "      <td>...</td>\n",
       "      <td>2002.00</td>\n",
       "      <td>5237.0</td>\n",
       "      <td>15.0</td>\n",
       "      <td>93026.533333</td>\n",
       "      <td>129049.965843</td>\n",
       "      <td>1616.0</td>\n",
       "      <td>13225.00</td>\n",
       "      <td>20000.0</td>\n",
       "      <td>128150.00</td>\n",
       "      <td>431000.0</td>\n",
       "    </tr>\n",
       "    <tr>\n",
       "      <th>Food, Beverages &amp; Tobacco</th>\n",
       "      <td>43.0</td>\n",
       "      <td>433.232558</td>\n",
       "      <td>267.799484</td>\n",
       "      <td>41.0</td>\n",
       "      <td>191.50</td>\n",
       "      <td>429.0</td>\n",
       "      <td>625.50</td>\n",
       "      <td>954.0</td>\n",
       "      <td>43.0</td>\n",
       "      <td>12929.465116</td>\n",
       "      <td>...</td>\n",
       "      <td>772.50</td>\n",
       "      <td>7351.0</td>\n",
       "      <td>43.0</td>\n",
       "      <td>28177.488372</td>\n",
       "      <td>46494.442039</td>\n",
       "      <td>1857.0</td>\n",
       "      <td>7285.00</td>\n",
       "      <td>11500.0</td>\n",
       "      <td>23850.00</td>\n",
       "      <td>263000.0</td>\n",
       "    </tr>\n",
       "    <tr>\n",
       "      <th>Health Care</th>\n",
       "      <td>75.0</td>\n",
       "      <td>423.600000</td>\n",
       "      <td>305.703752</td>\n",
       "      <td>5.0</td>\n",
       "      <td>139.00</td>\n",
       "      <td>372.0</td>\n",
       "      <td>695.00</td>\n",
       "      <td>978.0</td>\n",
       "      <td>75.0</td>\n",
       "      <td>21529.426667</td>\n",
       "      <td>...</td>\n",
       "      <td>1357.50</td>\n",
       "      <td>18108.0</td>\n",
       "      <td>75.0</td>\n",
       "      <td>35710.520000</td>\n",
       "      <td>40300.162385</td>\n",
       "      <td>2924.0</td>\n",
       "      <td>9436.00</td>\n",
       "      <td>18800.0</td>\n",
       "      <td>49458.50</td>\n",
       "      <td>203500.0</td>\n",
       "    </tr>\n",
       "    <tr>\n",
       "      <th>Hotels, Resturants &amp; Leisure</th>\n",
       "      <td>25.0</td>\n",
       "      <td>561.560000</td>\n",
       "      <td>278.637919</td>\n",
       "      <td>109.0</td>\n",
       "      <td>309.00</td>\n",
       "      <td>557.0</td>\n",
       "      <td>779.00</td>\n",
       "      <td>999.0</td>\n",
       "      <td>25.0</td>\n",
       "      <td>6781.840000</td>\n",
       "      <td>...</td>\n",
       "      <td>859.00</td>\n",
       "      <td>5920.0</td>\n",
       "      <td>25.0</td>\n",
       "      <td>99369.800000</td>\n",
       "      <td>125535.275256</td>\n",
       "      <td>8500.0</td>\n",
       "      <td>21200.00</td>\n",
       "      <td>46500.0</td>\n",
       "      <td>127500.00</td>\n",
       "      <td>505000.0</td>\n",
       "    </tr>\n",
       "    <tr>\n",
       "      <th>Household Products</th>\n",
       "      <td>28.0</td>\n",
       "      <td>562.464286</td>\n",
       "      <td>281.905222</td>\n",
       "      <td>34.0</td>\n",
       "      <td>343.25</td>\n",
       "      <td>541.5</td>\n",
       "      <td>864.50</td>\n",
       "      <td>992.0</td>\n",
       "      <td>28.0</td>\n",
       "      <td>8383.464286</td>\n",
       "      <td>...</td>\n",
       "      <td>484.00</td>\n",
       "      <td>7036.0</td>\n",
       "      <td>28.0</td>\n",
       "      <td>23072.785714</td>\n",
       "      <td>22183.386913</td>\n",
       "      <td>4406.0</td>\n",
       "      <td>7432.50</td>\n",
       "      <td>16561.0</td>\n",
       "      <td>31775.00</td>\n",
       "      <td>110000.0</td>\n",
       "    </tr>\n",
       "    <tr>\n",
       "      <th>Industrials</th>\n",
       "      <td>46.0</td>\n",
       "      <td>586.695652</td>\n",
       "      <td>296.183342</td>\n",
       "      <td>11.0</td>\n",
       "      <td>381.75</td>\n",
       "      <td>656.5</td>\n",
       "      <td>831.75</td>\n",
       "      <td>1000.0</td>\n",
       "      <td>46.0</td>\n",
       "      <td>10816.978261</td>\n",
       "      <td>...</td>\n",
       "      <td>459.00</td>\n",
       "      <td>4833.0</td>\n",
       "      <td>46.0</td>\n",
       "      <td>33591.934783</td>\n",
       "      <td>55084.589340</td>\n",
       "      <td>4104.0</td>\n",
       "      <td>9775.00</td>\n",
       "      <td>12850.0</td>\n",
       "      <td>25549.25</td>\n",
       "      <td>333000.0</td>\n",
       "    </tr>\n",
       "    <tr>\n",
       "      <th>Materials</th>\n",
       "      <td>43.0</td>\n",
       "      <td>542.860465</td>\n",
       "      <td>220.003310</td>\n",
       "      <td>126.0</td>\n",
       "      <td>379.00</td>\n",
       "      <td>577.0</td>\n",
       "      <td>663.50</td>\n",
       "      <td>986.0</td>\n",
       "      <td>43.0</td>\n",
       "      <td>6026.627907</td>\n",
       "      <td>...</td>\n",
       "      <td>300.50</td>\n",
       "      <td>991.0</td>\n",
       "      <td>43.0</td>\n",
       "      <td>14840.069767</td>\n",
       "      <td>12884.845967</td>\n",
       "      <td>52.0</td>\n",
       "      <td>7399.50</td>\n",
       "      <td>12000.0</td>\n",
       "      <td>16848.00</td>\n",
       "      <td>60000.0</td>\n",
       "    </tr>\n",
       "    <tr>\n",
       "      <th>Media</th>\n",
       "      <td>25.0</td>\n",
       "      <td>559.040000</td>\n",
       "      <td>296.428249</td>\n",
       "      <td>53.0</td>\n",
       "      <td>327.00</td>\n",
       "      <td>681.0</td>\n",
       "      <td>759.00</td>\n",
       "      <td>989.0</td>\n",
       "      <td>25.0</td>\n",
       "      <td>8830.560000</td>\n",
       "      <td>...</td>\n",
       "      <td>607.00</td>\n",
       "      <td>8382.0</td>\n",
       "      <td>25.0</td>\n",
       "      <td>22012.560000</td>\n",
       "      <td>36512.729298</td>\n",
       "      <td>2341.0</td>\n",
       "      <td>7200.00</td>\n",
       "      <td>12200.0</td>\n",
       "      <td>20500.00</td>\n",
       "      <td>185000.0</td>\n",
       "    </tr>\n",
       "    <tr>\n",
       "      <th>Motor Vehicles &amp; Parts</th>\n",
       "      <td>24.0</td>\n",
       "      <td>475.333333</td>\n",
       "      <td>301.175475</td>\n",
       "      <td>8.0</td>\n",
       "      <td>253.00</td>\n",
       "      <td>449.0</td>\n",
       "      <td>682.00</td>\n",
       "      <td>979.0</td>\n",
       "      <td>24.0</td>\n",
       "      <td>20105.833333</td>\n",
       "      <td>...</td>\n",
       "      <td>644.00</td>\n",
       "      <td>9687.0</td>\n",
       "      <td>24.0</td>\n",
       "      <td>45106.666667</td>\n",
       "      <td>61835.587198</td>\n",
       "      <td>2700.0</td>\n",
       "      <td>10862.50</td>\n",
       "      <td>13550.0</td>\n",
       "      <td>37337.50</td>\n",
       "      <td>215000.0</td>\n",
       "    </tr>\n",
       "    <tr>\n",
       "      <th>Retailing</th>\n",
       "      <td>80.0</td>\n",
       "      <td>445.637500</td>\n",
       "      <td>274.431299</td>\n",
       "      <td>1.0</td>\n",
       "      <td>232.50</td>\n",
       "      <td>386.5</td>\n",
       "      <td>650.25</td>\n",
       "      <td>973.0</td>\n",
       "      <td>80.0</td>\n",
       "      <td>18313.450000</td>\n",
       "      <td>...</td>\n",
       "      <td>483.75</td>\n",
       "      <td>14694.0</td>\n",
       "      <td>80.0</td>\n",
       "      <td>77845.362500</td>\n",
       "      <td>261173.769204</td>\n",
       "      <td>2155.0</td>\n",
       "      <td>12575.00</td>\n",
       "      <td>22704.0</td>\n",
       "      <td>57115.75</td>\n",
       "      <td>2300000.0</td>\n",
       "    </tr>\n",
       "    <tr>\n",
       "      <th>Technology</th>\n",
       "      <td>102.0</td>\n",
       "      <td>557.862745</td>\n",
       "      <td>299.227786</td>\n",
       "      <td>3.0</td>\n",
       "      <td>309.25</td>\n",
       "      <td>586.5</td>\n",
       "      <td>840.00</td>\n",
       "      <td>990.0</td>\n",
       "      <td>102.0</td>\n",
       "      <td>13505.882353</td>\n",
       "      <td>...</td>\n",
       "      <td>863.25</td>\n",
       "      <td>53394.0</td>\n",
       "      <td>102.0</td>\n",
       "      <td>35087.735294</td>\n",
       "      <td>61938.492917</td>\n",
       "      <td>2285.0</td>\n",
       "      <td>8857.00</td>\n",
       "      <td>12905.0</td>\n",
       "      <td>26150.00</td>\n",
       "      <td>411798.0</td>\n",
       "    </tr>\n",
       "    <tr>\n",
       "      <th>Telecommunications</th>\n",
       "      <td>15.0</td>\n",
       "      <td>325.133333</td>\n",
       "      <td>235.651336</td>\n",
       "      <td>10.0</td>\n",
       "      <td>137.50</td>\n",
       "      <td>333.0</td>\n",
       "      <td>478.50</td>\n",
       "      <td>786.0</td>\n",
       "      <td>15.0</td>\n",
       "      <td>30788.933333</td>\n",
       "      <td>...</td>\n",
       "      <td>2638.50</td>\n",
       "      <td>17879.0</td>\n",
       "      <td>15.0</td>\n",
       "      <td>55497.866667</td>\n",
       "      <td>82347.959648</td>\n",
       "      <td>2700.0</td>\n",
       "      <td>11363.00</td>\n",
       "      <td>18000.0</td>\n",
       "      <td>49715.00</td>\n",
       "      <td>281450.0</td>\n",
       "    </tr>\n",
       "    <tr>\n",
       "      <th>Transportation</th>\n",
       "      <td>36.0</td>\n",
       "      <td>509.694444</td>\n",
       "      <td>301.678809</td>\n",
       "      <td>48.0</td>\n",
       "      <td>262.25</td>\n",
       "      <td>490.0</td>\n",
       "      <td>755.00</td>\n",
       "      <td>974.0</td>\n",
       "      <td>36.0</td>\n",
       "      <td>11347.444444</td>\n",
       "      <td>...</td>\n",
       "      <td>898.50</td>\n",
       "      <td>7610.0</td>\n",
       "      <td>36.0</td>\n",
       "      <td>42688.694444</td>\n",
       "      <td>76312.912270</td>\n",
       "      <td>1223.0</td>\n",
       "      <td>7950.00</td>\n",
       "      <td>16664.0</td>\n",
       "      <td>32275.00</td>\n",
       "      <td>341240.0</td>\n",
       "    </tr>\n",
       "    <tr>\n",
       "      <th>Wholesalers</th>\n",
       "      <td>40.0</td>\n",
       "      <td>421.125000</td>\n",
       "      <td>253.611674</td>\n",
       "      <td>57.0</td>\n",
       "      <td>205.25</td>\n",
       "      <td>363.0</td>\n",
       "      <td>606.00</td>\n",
       "      <td>991.0</td>\n",
       "      <td>40.0</td>\n",
       "      <td>11120.000000</td>\n",
       "      <td>...</td>\n",
       "      <td>219.00</td>\n",
       "      <td>1472.0</td>\n",
       "      <td>40.0</td>\n",
       "      <td>13139.925000</td>\n",
       "      <td>15273.192529</td>\n",
       "      <td>500.0</td>\n",
       "      <td>4812.50</td>\n",
       "      <td>8700.0</td>\n",
       "      <td>14750.00</td>\n",
       "      <td>78500.0</td>\n",
       "    </tr>\n",
       "  </tbody>\n",
       "</table>\n",
       "<p>21 rows × 32 columns</p>\n",
       "</div>"
      ],
      "text/plain": [
       "                               Rank                                         \\\n",
       "                              count        mean         std    min     25%   \n",
       "Sector                                                                       \n",
       "Aerospace & Defense            20.0  443.500000  336.310555   24.0  119.50   \n",
       "Apparel                        15.0  583.800000  249.590579   91.0  401.00   \n",
       "Business Services              51.0  609.294118  241.988288  144.0  422.00   \n",
       "Chemicals                      30.0  530.933333  267.014004   56.0  279.75   \n",
       "Energy                        122.0  509.827869  294.434145    2.0  243.75   \n",
       "Engineering & Construction     26.0  582.576923  271.677629  155.0  359.25   \n",
       "Financials                    139.0  457.309353  291.448876    4.0  224.00   \n",
       "Food and Drug Stores           15.0  428.600000  349.218883    7.0   97.00   \n",
       "Food, Beverages & Tobacco      43.0  433.232558  267.799484   41.0  191.50   \n",
       "Health Care                    75.0  423.600000  305.703752    5.0  139.00   \n",
       "Hotels, Resturants & Leisure   25.0  561.560000  278.637919  109.0  309.00   \n",
       "Household Products             28.0  562.464286  281.905222   34.0  343.25   \n",
       "Industrials                    46.0  586.695652  296.183342   11.0  381.75   \n",
       "Materials                      43.0  542.860465  220.003310  126.0  379.00   \n",
       "Media                          25.0  559.040000  296.428249   53.0  327.00   \n",
       "Motor Vehicles & Parts         24.0  475.333333  301.175475    8.0  253.00   \n",
       "Retailing                      80.0  445.637500  274.431299    1.0  232.50   \n",
       "Technology                    102.0  557.862745  299.227786    3.0  309.25   \n",
       "Telecommunications             15.0  325.133333  235.651336   10.0  137.50   \n",
       "Transportation                 36.0  509.694444  301.678809   48.0  262.25   \n",
       "Wholesalers                    40.0  421.125000  253.611674   57.0  205.25   \n",
       "\n",
       "                                                    Revenue                \\\n",
       "                                50%     75%     max   count          mean   \n",
       "Sector                                                                      \n",
       "Aerospace & Defense           383.5  785.75   987.0    20.0  17897.000000   \n",
       "Apparel                       597.0  760.00   917.0    15.0   6397.866667   \n",
       "Business Services             694.0  794.00   993.0    51.0   5337.156863   \n",
       "Chemicals                     573.0  723.00   949.0    30.0   8129.900000   \n",
       "Energy                        488.0  767.50   997.0   122.0  12441.057377   \n",
       "Engineering & Construction    544.0  852.75   994.0    26.0   5922.423077   \n",
       "Financials                    453.0  705.50   996.0   139.0  15950.784173   \n",
       "Food and Drug Stores          595.0  712.50   928.0    15.0  32251.266667   \n",
       "Food, Beverages & Tobacco     429.0  625.50   954.0    43.0  12929.465116   \n",
       "Health Care                   372.0  695.00   978.0    75.0  21529.426667   \n",
       "Hotels, Resturants & Leisure  557.0  779.00   999.0    25.0   6781.840000   \n",
       "Household Products            541.5  864.50   992.0    28.0   8383.464286   \n",
       "Industrials                   656.5  831.75  1000.0    46.0  10816.978261   \n",
       "Materials                     577.0  663.50   986.0    43.0   6026.627907   \n",
       "Media                         681.0  759.00   989.0    25.0   8830.560000   \n",
       "Motor Vehicles & Parts        449.0  682.00   979.0    24.0  20105.833333   \n",
       "Retailing                     386.5  650.25   973.0    80.0  18313.450000   \n",
       "Technology                    586.5  840.00   990.0   102.0  13505.882353   \n",
       "Telecommunications            333.0  478.50   786.0    15.0  30788.933333   \n",
       "Transportation                490.0  755.00   974.0    36.0  11347.444444   \n",
       "Wholesalers                   363.0  606.00   991.0    40.0  11120.000000   \n",
       "\n",
       "                              ...  Profits          Employees                \\\n",
       "                              ...      75%      max     count          mean   \n",
       "Sector                        ...                                             \n",
       "Aerospace & Defense           ...  2011.00   7608.0      20.0  48402.850000   \n",
       "Apparel                       ...   500.50   3273.0      15.0  23093.133333   \n",
       "Business Services             ...   653.50   6328.0      51.0  26687.254902   \n",
       "Chemicals                     ...  1001.50   7685.0      30.0  15455.033333   \n",
       "Energy                        ...   540.25  16150.0     122.0   9745.303279   \n",
       "Engineering & Construction    ...   309.00    803.0      26.0  15642.615385   \n",
       "Financials                    ...  1400.00  24442.0     139.0  24172.287770   \n",
       "Food and Drug Stores          ...  2002.00   5237.0      15.0  93026.533333   \n",
       "Food, Beverages & Tobacco     ...   772.50   7351.0      43.0  28177.488372   \n",
       "Health Care                   ...  1357.50  18108.0      75.0  35710.520000   \n",
       "Hotels, Resturants & Leisure  ...   859.00   5920.0      25.0  99369.800000   \n",
       "Household Products            ...   484.00   7036.0      28.0  23072.785714   \n",
       "Industrials                   ...   459.00   4833.0      46.0  33591.934783   \n",
       "Materials                     ...   300.50    991.0      43.0  14840.069767   \n",
       "Media                         ...   607.00   8382.0      25.0  22012.560000   \n",
       "Motor Vehicles & Parts        ...   644.00   9687.0      24.0  45106.666667   \n",
       "Retailing                     ...   483.75  14694.0      80.0  77845.362500   \n",
       "Technology                    ...   863.25  53394.0     102.0  35087.735294   \n",
       "Telecommunications            ...  2638.50  17879.0      15.0  55497.866667   \n",
       "Transportation                ...   898.50   7610.0      36.0  42688.694444   \n",
       "Wholesalers                   ...   219.00   1472.0      40.0  13139.925000   \n",
       "\n",
       "                                                                        \\\n",
       "                                        std     min       25%      50%   \n",
       "Sector                                                                   \n",
       "Aerospace & Defense            55389.486777  6955.0  11672.75  24803.0   \n",
       "Apparel                        21833.228179  5978.0   9259.50  13500.0   \n",
       "Business Services              37717.982486  2400.0   8350.00  13000.0   \n",
       "Chemicals                      15644.314440  1979.0   5282.50   7431.5   \n",
       "Energy                         12949.476412   480.0   2596.00   5301.5   \n",
       "Engineering & Construction     20625.225235  1036.0   2941.25   7380.0   \n",
       "Financials                     49070.504370   187.0   3500.00   7621.0   \n",
       "Food and Drug Stores          129049.965843  1616.0  13225.00  20000.0   \n",
       "Food, Beverages & Tobacco      46494.442039  1857.0   7285.00  11500.0   \n",
       "Health Care                    40300.162385  2924.0   9436.00  18800.0   \n",
       "Hotels, Resturants & Leisure  125535.275256  8500.0  21200.00  46500.0   \n",
       "Household Products             22183.386913  4406.0   7432.50  16561.0   \n",
       "Industrials                    55084.589340  4104.0   9775.00  12850.0   \n",
       "Materials                      12884.845967    52.0   7399.50  12000.0   \n",
       "Media                          36512.729298  2341.0   7200.00  12200.0   \n",
       "Motor Vehicles & Parts         61835.587198  2700.0  10862.50  13550.0   \n",
       "Retailing                     261173.769204  2155.0  12575.00  22704.0   \n",
       "Technology                     61938.492917  2285.0   8857.00  12905.0   \n",
       "Telecommunications             82347.959648  2700.0  11363.00  18000.0   \n",
       "Transportation                 76312.912270  1223.0   7950.00  16664.0   \n",
       "Wholesalers                    15273.192529   500.0   4812.50   8700.0   \n",
       "\n",
       "                                                    \n",
       "                                    75%        max  \n",
       "Sector                                              \n",
       "Aerospace & Defense            62000.00   197200.0  \n",
       "Apparel                        23100.00    65300.0  \n",
       "Business Services              24736.00   216500.0  \n",
       "Chemicals                      18412.50    52000.0  \n",
       "Energy                         11242.50    75600.0  \n",
       "Engineering & Construction     22000.00    92000.0  \n",
       "Financials                     19899.00   331000.0  \n",
       "Food and Drug Stores          128150.00   431000.0  \n",
       "Food, Beverages & Tobacco      23850.00   263000.0  \n",
       "Health Care                    49458.50   203500.0  \n",
       "Hotels, Resturants & Leisure  127500.00   505000.0  \n",
       "Household Products             31775.00   110000.0  \n",
       "Industrials                    25549.25   333000.0  \n",
       "Materials                      16848.00    60000.0  \n",
       "Media                          20500.00   185000.0  \n",
       "Motor Vehicles & Parts         37337.50   215000.0  \n",
       "Retailing                      57115.75  2300000.0  \n",
       "Technology                     26150.00   411798.0  \n",
       "Telecommunications             49715.00   281450.0  \n",
       "Transportation                 32275.00   341240.0  \n",
       "Wholesalers                    14750.00    78500.0  \n",
       "\n",
       "[21 rows x 32 columns]"
      ]
     },
     "execution_count": 108,
     "metadata": {},
     "output_type": "execute_result"
    }
   ],
   "source": [
    "Sector=df.groupby('Sector')\n",
    "Sector.describe()"
   ]
  },
  {
   "cell_type": "code",
   "execution_count": 209,
   "id": "0ae69f98",
   "metadata": {},
   "outputs": [
    {
     "data": {
      "text/html": [
       "<div>\n",
       "<style scoped>\n",
       "    .dataframe tbody tr th:only-of-type {\n",
       "        vertical-align: middle;\n",
       "    }\n",
       "\n",
       "    .dataframe tbody tr th {\n",
       "        vertical-align: top;\n",
       "    }\n",
       "\n",
       "    .dataframe thead th {\n",
       "        text-align: right;\n",
       "    }\n",
       "</style>\n",
       "<table border=\"1\" class=\"dataframe\">\n",
       "  <thead>\n",
       "    <tr style=\"text-align: right;\">\n",
       "      <th></th>\n",
       "      <th>Rank</th>\n",
       "      <th>Company</th>\n",
       "      <th>Sector</th>\n",
       "      <th>Industry</th>\n",
       "      <th>Location</th>\n",
       "      <th>Revenue</th>\n",
       "      <th>Profits</th>\n",
       "      <th>Employees</th>\n",
       "    </tr>\n",
       "  </thead>\n",
       "  <tbody>\n",
       "    <tr>\n",
       "      <th>52</th>\n",
       "      <td>53</td>\n",
       "      <td>Disney</td>\n",
       "      <td>Media</td>\n",
       "      <td>Entertainment</td>\n",
       "      <td>Burbank, CA</td>\n",
       "      <td>52465</td>\n",
       "      <td>8382</td>\n",
       "      <td>185000</td>\n",
       "    </tr>\n",
       "    <tr>\n",
       "      <th>95</th>\n",
       "      <td>96</td>\n",
       "      <td>Twenty-First Century Fox</td>\n",
       "      <td>Media</td>\n",
       "      <td>Entertainment</td>\n",
       "      <td>New York, NY</td>\n",
       "      <td>28987</td>\n",
       "      <td>8306</td>\n",
       "      <td>20500</td>\n",
       "    </tr>\n",
       "    <tr>\n",
       "      <th>98</th>\n",
       "      <td>99</td>\n",
       "      <td>Time Warner</td>\n",
       "      <td>Media</td>\n",
       "      <td>Entertainment</td>\n",
       "      <td>New York, NY</td>\n",
       "      <td>28118</td>\n",
       "      <td>3833</td>\n",
       "      <td>24800</td>\n",
       "    </tr>\n",
       "    <tr>\n",
       "      <th>202</th>\n",
       "      <td>203</td>\n",
       "      <td>CBS</td>\n",
       "      <td>Media</td>\n",
       "      <td>Entertainment</td>\n",
       "      <td>New York, NY</td>\n",
       "      <td>13886</td>\n",
       "      <td>1413</td>\n",
       "      <td>19080</td>\n",
       "    </tr>\n",
       "    <tr>\n",
       "      <th>212</th>\n",
       "      <td>213</td>\n",
       "      <td>Viacom</td>\n",
       "      <td>Media</td>\n",
       "      <td>Entertainment</td>\n",
       "      <td>New York, NY</td>\n",
       "      <td>13268</td>\n",
       "      <td>1922</td>\n",
       "      <td>9445</td>\n",
       "    </tr>\n",
       "  </tbody>\n",
       "</table>\n",
       "</div>"
      ],
      "text/plain": [
       "     Rank                   Company Sector       Industry      Location  \\\n",
       "52     53                    Disney  Media  Entertainment   Burbank, CA   \n",
       "95     96  Twenty-First Century Fox  Media  Entertainment  New York, NY   \n",
       "98     99               Time Warner  Media  Entertainment  New York, NY   \n",
       "202   203                       CBS  Media  Entertainment  New York, NY   \n",
       "212   213                    Viacom  Media  Entertainment  New York, NY   \n",
       "\n",
       "     Revenue  Profits  Employees  \n",
       "52     52465     8382     185000  \n",
       "95     28987     8306      20500  \n",
       "98     28118     3833      24800  \n",
       "202    13886     1413      19080  \n",
       "212    13268     1922       9445  "
      ]
     },
     "execution_count": 209,
     "metadata": {},
     "output_type": "execute_result"
    }
   ],
   "source": [
    "Sector.get_group('Media').head()"
   ]
  },
  {
   "cell_type": "code",
   "execution_count": 210,
   "id": "7b4fe2dd",
   "metadata": {},
   "outputs": [
    {
     "data": {
      "text/html": [
       "<div>\n",
       "<style scoped>\n",
       "    .dataframe tbody tr th:only-of-type {\n",
       "        vertical-align: middle;\n",
       "    }\n",
       "\n",
       "    .dataframe tbody tr th {\n",
       "        vertical-align: top;\n",
       "    }\n",
       "\n",
       "    .dataframe thead th {\n",
       "        text-align: right;\n",
       "    }\n",
       "</style>\n",
       "<table border=\"1\" class=\"dataframe\">\n",
       "  <thead>\n",
       "    <tr style=\"text-align: right;\">\n",
       "      <th></th>\n",
       "      <th>Rank</th>\n",
       "      <th>Company</th>\n",
       "      <th>Sector</th>\n",
       "      <th>Industry</th>\n",
       "      <th>Location</th>\n",
       "      <th>Revenue</th>\n",
       "      <th>Profits</th>\n",
       "      <th>Employees</th>\n",
       "    </tr>\n",
       "  </thead>\n",
       "  <tbody>\n",
       "    <tr>\n",
       "      <th>3</th>\n",
       "      <td>4</td>\n",
       "      <td>Berkshire Hathaway</td>\n",
       "      <td>Financials</td>\n",
       "      <td>Insurance: Property and Casualty (Stock)</td>\n",
       "      <td>Omaha, NE</td>\n",
       "      <td>210821</td>\n",
       "      <td>24083</td>\n",
       "      <td>331000</td>\n",
       "    </tr>\n",
       "    <tr>\n",
       "      <th>15</th>\n",
       "      <td>16</td>\n",
       "      <td>Fannie Mae</td>\n",
       "      <td>Financials</td>\n",
       "      <td>Diversified Financials</td>\n",
       "      <td>Washington, DC</td>\n",
       "      <td>110359</td>\n",
       "      <td>10954</td>\n",
       "      <td>7300</td>\n",
       "    </tr>\n",
       "    <tr>\n",
       "      <th>22</th>\n",
       "      <td>23</td>\n",
       "      <td>J.P. Morgan Chase</td>\n",
       "      <td>Financials</td>\n",
       "      <td>Commercial Banks</td>\n",
       "      <td>New York, NY</td>\n",
       "      <td>101006</td>\n",
       "      <td>24442</td>\n",
       "      <td>234598</td>\n",
       "    </tr>\n",
       "    <tr>\n",
       "      <th>25</th>\n",
       "      <td>26</td>\n",
       "      <td>Bank of America Corp.</td>\n",
       "      <td>Financials</td>\n",
       "      <td>Commercial Banks</td>\n",
       "      <td>Charlotte, NC</td>\n",
       "      <td>93056</td>\n",
       "      <td>15888</td>\n",
       "      <td>213280</td>\n",
       "    </tr>\n",
       "    <tr>\n",
       "      <th>26</th>\n",
       "      <td>27</td>\n",
       "      <td>Wells Fargo</td>\n",
       "      <td>Financials</td>\n",
       "      <td>Commercial Banks</td>\n",
       "      <td>San Francisco, CA</td>\n",
       "      <td>90033</td>\n",
       "      <td>22894</td>\n",
       "      <td>264700</td>\n",
       "    </tr>\n",
       "  </tbody>\n",
       "</table>\n",
       "</div>"
      ],
      "text/plain": [
       "    Rank                Company      Sector  \\\n",
       "3      4     Berkshire Hathaway  Financials   \n",
       "15    16             Fannie Mae  Financials   \n",
       "22    23      J.P. Morgan Chase  Financials   \n",
       "25    26  Bank of America Corp.  Financials   \n",
       "26    27            Wells Fargo  Financials   \n",
       "\n",
       "                                    Industry           Location  Revenue  \\\n",
       "3   Insurance: Property and Casualty (Stock)          Omaha, NE   210821   \n",
       "15                    Diversified Financials     Washington, DC   110359   \n",
       "22                          Commercial Banks       New York, NY   101006   \n",
       "25                          Commercial Banks      Charlotte, NC    93056   \n",
       "26                          Commercial Banks  San Francisco, CA    90033   \n",
       "\n",
       "    Profits  Employees  \n",
       "3     24083     331000  \n",
       "15    10954       7300  \n",
       "22    24442     234598  \n",
       "25    15888     213280  \n",
       "26    22894     264700  "
      ]
     },
     "execution_count": 210,
     "metadata": {},
     "output_type": "execute_result"
    }
   ],
   "source": [
    "Sector.get_group('Financials').head()                  "
   ]
  },
  {
   "cell_type": "code",
   "execution_count": 211,
   "id": "9de8e6ca",
   "metadata": {},
   "outputs": [
    {
     "data": {
      "text/plain": [
       "(139, 8)"
      ]
     },
     "execution_count": 211,
     "metadata": {},
     "output_type": "execute_result"
    }
   ],
   "source": [
    "Sector.get_group('Financials').shape                 "
   ]
  },
  {
   "cell_type": "code",
   "execution_count": 212,
   "id": "03b5b0a0",
   "metadata": {},
   "outputs": [
    {
     "data": {
      "text/plain": [
       "2217159"
      ]
     },
     "execution_count": 212,
     "metadata": {},
     "output_type": "execute_result"
    }
   ],
   "source": [
    "Sector.get_group('Financials')['Revenue'].sum()"
   ]
  },
  {
   "cell_type": "code",
   "execution_count": 213,
   "id": "c298e021",
   "metadata": {},
   "outputs": [
    {
     "data": {
      "text/plain": [
       "Sector\n",
       "Aerospace & Defense              357940\n",
       "Apparel                           95968\n",
       "Business Services                272195\n",
       "Chemicals                        243897\n",
       "Energy                          1517809\n",
       "Engineering & Construction       153983\n",
       "Financials                      2217159\n",
       "Food and Drug Stores             483769\n",
       "Food, Beverages & Tobacco        555967\n",
       "Health Care                     1614707\n",
       "Hotels, Resturants & Leisure     169546\n",
       "Household Products               234737\n",
       "Industrials                      497581\n",
       "Materials                        259145\n",
       "Media                            220764\n",
       "Motor Vehicles & Parts           482540\n",
       "Retailing                       1465076\n",
       "Technology                      1377600\n",
       "Telecommunications               461834\n",
       "Transportation                   408508\n",
       "Wholesalers                      444800\n",
       "Name: Revenue, dtype: int64"
      ]
     },
     "execution_count": 213,
     "metadata": {},
     "output_type": "execute_result"
    }
   ],
   "source": [
    "df.groupby('Sector')['Revenue'].sum()"
   ]
  },
  {
   "cell_type": "code",
   "execution_count": 215,
   "id": "f7fc6262",
   "metadata": {},
   "outputs": [
    {
     "data": {
      "text/plain": [
       "Sector\n",
       "Aerospace & Defense             1437.100000\n",
       "Apparel                          549.066667\n",
       "Business Services                553.470588\n",
       "Chemicals                        754.266667\n",
       "Energy                          -602.024590\n",
       "Engineering & Construction       204.000000\n",
       "Financials                      1872.007194\n",
       "Food and Drug Stores            1117.266667\n",
       "Food, Beverages & Tobacco       1195.744186\n",
       "Health Care                     1414.853333\n",
       "Hotels, Resturants & Leisure     827.880000\n",
       "Household Products               515.285714\n",
       "Industrials                      451.391304\n",
       "Materials                        102.976744\n",
       "Media                            973.880000\n",
       "Motor Vehicles & Parts          1079.083333\n",
       "Retailing                        597.875000\n",
       "Technology                      1769.343137\n",
       "Telecommunications              3242.466667\n",
       "Transportation                  1226.916667\n",
       "Wholesalers                      205.825000\n",
       "Name: Profits, dtype: float64"
      ]
     },
     "execution_count": 215,
     "metadata": {},
     "output_type": "execute_result"
    }
   ],
   "source": [
    "df.groupby('Sector')['Profits'].mean() "
   ]
  },
  {
   "cell_type": "code",
   "execution_count": 109,
   "id": "2ca3c641",
   "metadata": {},
   "outputs": [],
   "source": [
    "#df=pd.read_csv(\"C:/Users/powel/OneDrive/Desktop/Upgrad/employees.csv\")\n",
    "#df=pd.read_csv(\"C:/Users/powel/OneDrive/Desktop/Upgrad/fortune1000.csv\")\n",
    "#df=pd.read_csv(\"C:/Users/powel/OneDrive/Desktop/Upgrad/jamesbond.csv\")\n",
    "df=pd.read_csv(\"/Users/vicky/Downloads/Python DS/6. Pandas/nba.csv\")\n"
   ]
  },
  {
   "cell_type": "code",
   "execution_count": 110,
   "id": "4a6aed04",
   "metadata": {},
   "outputs": [
    {
     "data": {
      "text/html": [
       "<div>\n",
       "<style scoped>\n",
       "    .dataframe tbody tr th:only-of-type {\n",
       "        vertical-align: middle;\n",
       "    }\n",
       "\n",
       "    .dataframe tbody tr th {\n",
       "        vertical-align: top;\n",
       "    }\n",
       "\n",
       "    .dataframe thead th {\n",
       "        text-align: right;\n",
       "    }\n",
       "</style>\n",
       "<table border=\"1\" class=\"dataframe\">\n",
       "  <thead>\n",
       "    <tr style=\"text-align: right;\">\n",
       "      <th></th>\n",
       "      <th>Name</th>\n",
       "      <th>Team</th>\n",
       "      <th>Number</th>\n",
       "      <th>Position</th>\n",
       "      <th>Age</th>\n",
       "      <th>Height</th>\n",
       "      <th>Weight</th>\n",
       "      <th>College</th>\n",
       "      <th>Salary</th>\n",
       "    </tr>\n",
       "  </thead>\n",
       "  <tbody>\n",
       "    <tr>\n",
       "      <th>0</th>\n",
       "      <td>Avery Bradley</td>\n",
       "      <td>Boston Celtics</td>\n",
       "      <td>0.0</td>\n",
       "      <td>PG</td>\n",
       "      <td>25.0</td>\n",
       "      <td>6-2</td>\n",
       "      <td>180.0</td>\n",
       "      <td>Texas</td>\n",
       "      <td>7730337.0</td>\n",
       "    </tr>\n",
       "    <tr>\n",
       "      <th>1</th>\n",
       "      <td>Jae Crowder</td>\n",
       "      <td>Boston Celtics</td>\n",
       "      <td>99.0</td>\n",
       "      <td>SF</td>\n",
       "      <td>25.0</td>\n",
       "      <td>6-6</td>\n",
       "      <td>235.0</td>\n",
       "      <td>Marquette</td>\n",
       "      <td>6796117.0</td>\n",
       "    </tr>\n",
       "    <tr>\n",
       "      <th>2</th>\n",
       "      <td>John Holland</td>\n",
       "      <td>Boston Celtics</td>\n",
       "      <td>30.0</td>\n",
       "      <td>SG</td>\n",
       "      <td>27.0</td>\n",
       "      <td>6-5</td>\n",
       "      <td>205.0</td>\n",
       "      <td>Boston University</td>\n",
       "      <td>NaN</td>\n",
       "    </tr>\n",
       "    <tr>\n",
       "      <th>3</th>\n",
       "      <td>R.J. Hunter</td>\n",
       "      <td>Boston Celtics</td>\n",
       "      <td>28.0</td>\n",
       "      <td>SG</td>\n",
       "      <td>22.0</td>\n",
       "      <td>6-5</td>\n",
       "      <td>185.0</td>\n",
       "      <td>Georgia State</td>\n",
       "      <td>1148640.0</td>\n",
       "    </tr>\n",
       "    <tr>\n",
       "      <th>4</th>\n",
       "      <td>Jonas Jerebko</td>\n",
       "      <td>Boston Celtics</td>\n",
       "      <td>8.0</td>\n",
       "      <td>PF</td>\n",
       "      <td>29.0</td>\n",
       "      <td>6-10</td>\n",
       "      <td>231.0</td>\n",
       "      <td>NaN</td>\n",
       "      <td>5000000.0</td>\n",
       "    </tr>\n",
       "  </tbody>\n",
       "</table>\n",
       "</div>"
      ],
      "text/plain": [
       "            Name            Team  Number Position   Age Height  Weight  \\\n",
       "0  Avery Bradley  Boston Celtics     0.0       PG  25.0    6-2   180.0   \n",
       "1    Jae Crowder  Boston Celtics    99.0       SF  25.0    6-6   235.0   \n",
       "2   John Holland  Boston Celtics    30.0       SG  27.0    6-5   205.0   \n",
       "3    R.J. Hunter  Boston Celtics    28.0       SG  22.0    6-5   185.0   \n",
       "4  Jonas Jerebko  Boston Celtics     8.0       PF  29.0   6-10   231.0   \n",
       "\n",
       "             College     Salary  \n",
       "0              Texas  7730337.0  \n",
       "1          Marquette  6796117.0  \n",
       "2  Boston University        NaN  \n",
       "3      Georgia State  1148640.0  \n",
       "4                NaN  5000000.0  "
      ]
     },
     "execution_count": 110,
     "metadata": {},
     "output_type": "execute_result"
    }
   ],
   "source": [
    "df.head()"
   ]
  },
  {
   "cell_type": "code",
   "execution_count": 234,
   "id": "51782ee8",
   "metadata": {},
   "outputs": [],
   "source": [
    "#NaN or null or NULL\n",
    "# Missing values "
   ]
  },
  {
   "cell_type": "code",
   "execution_count": 235,
   "id": "0f409a5c",
   "metadata": {},
   "outputs": [],
   "source": [
    "# different imputations, replace with either mean/median mode /\n",
    "# build a model and predict missing values"
   ]
  },
  {
   "cell_type": "markdown",
   "id": "d2a64734",
   "metadata": {},
   "source": [
    "# Treating missing values"
   ]
  },
  {
   "cell_type": "code",
   "execution_count": 236,
   "id": "8f42f4dd",
   "metadata": {},
   "outputs": [
    {
     "data": {
      "text/plain": [
       "(458, 9)"
      ]
     },
     "execution_count": 236,
     "metadata": {},
     "output_type": "execute_result"
    }
   ],
   "source": [
    "df.shape"
   ]
  },
  {
   "cell_type": "code",
   "execution_count": 113,
   "id": "a5aa361a",
   "metadata": {},
   "outputs": [
    {
     "data": {
      "text/html": [
       "<div>\n",
       "<style scoped>\n",
       "    .dataframe tbody tr th:only-of-type {\n",
       "        vertical-align: middle;\n",
       "    }\n",
       "\n",
       "    .dataframe tbody tr th {\n",
       "        vertical-align: top;\n",
       "    }\n",
       "\n",
       "    .dataframe thead th {\n",
       "        text-align: right;\n",
       "    }\n",
       "</style>\n",
       "<table border=\"1\" class=\"dataframe\">\n",
       "  <thead>\n",
       "    <tr style=\"text-align: right;\">\n",
       "      <th></th>\n",
       "      <th>Name</th>\n",
       "      <th>Team</th>\n",
       "      <th>Number</th>\n",
       "      <th>Position</th>\n",
       "      <th>Age</th>\n",
       "      <th>Height</th>\n",
       "      <th>Weight</th>\n",
       "      <th>College</th>\n",
       "      <th>Salary</th>\n",
       "    </tr>\n",
       "  </thead>\n",
       "  <tbody>\n",
       "    <tr>\n",
       "      <th>0</th>\n",
       "      <td>Avery Bradley</td>\n",
       "      <td>Boston Celtics</td>\n",
       "      <td>0.0</td>\n",
       "      <td>PG</td>\n",
       "      <td>25.0</td>\n",
       "      <td>6-2</td>\n",
       "      <td>180.0</td>\n",
       "      <td>Texas</td>\n",
       "      <td>7730337.0</td>\n",
       "    </tr>\n",
       "    <tr>\n",
       "      <th>1</th>\n",
       "      <td>Jae Crowder</td>\n",
       "      <td>Boston Celtics</td>\n",
       "      <td>99.0</td>\n",
       "      <td>SF</td>\n",
       "      <td>25.0</td>\n",
       "      <td>6-6</td>\n",
       "      <td>235.0</td>\n",
       "      <td>Marquette</td>\n",
       "      <td>6796117.0</td>\n",
       "    </tr>\n",
       "    <tr>\n",
       "      <th>2</th>\n",
       "      <td>John Holland</td>\n",
       "      <td>Boston Celtics</td>\n",
       "      <td>30.0</td>\n",
       "      <td>SG</td>\n",
       "      <td>27.0</td>\n",
       "      <td>6-5</td>\n",
       "      <td>205.0</td>\n",
       "      <td>Boston University</td>\n",
       "      <td>NaN</td>\n",
       "    </tr>\n",
       "    <tr>\n",
       "      <th>3</th>\n",
       "      <td>R.J. Hunter</td>\n",
       "      <td>Boston Celtics</td>\n",
       "      <td>28.0</td>\n",
       "      <td>SG</td>\n",
       "      <td>22.0</td>\n",
       "      <td>6-5</td>\n",
       "      <td>185.0</td>\n",
       "      <td>Georgia State</td>\n",
       "      <td>1148640.0</td>\n",
       "    </tr>\n",
       "    <tr>\n",
       "      <th>4</th>\n",
       "      <td>Jonas Jerebko</td>\n",
       "      <td>Boston Celtics</td>\n",
       "      <td>8.0</td>\n",
       "      <td>PF</td>\n",
       "      <td>29.0</td>\n",
       "      <td>6-10</td>\n",
       "      <td>231.0</td>\n",
       "      <td>NaN</td>\n",
       "      <td>5000000.0</td>\n",
       "    </tr>\n",
       "    <tr>\n",
       "      <th>...</th>\n",
       "      <td>...</td>\n",
       "      <td>...</td>\n",
       "      <td>...</td>\n",
       "      <td>...</td>\n",
       "      <td>...</td>\n",
       "      <td>...</td>\n",
       "      <td>...</td>\n",
       "      <td>...</td>\n",
       "      <td>...</td>\n",
       "    </tr>\n",
       "    <tr>\n",
       "      <th>453</th>\n",
       "      <td>Shelvin Mack</td>\n",
       "      <td>Utah Jazz</td>\n",
       "      <td>8.0</td>\n",
       "      <td>PG</td>\n",
       "      <td>26.0</td>\n",
       "      <td>6-3</td>\n",
       "      <td>203.0</td>\n",
       "      <td>Butler</td>\n",
       "      <td>2433333.0</td>\n",
       "    </tr>\n",
       "    <tr>\n",
       "      <th>454</th>\n",
       "      <td>Raul Neto</td>\n",
       "      <td>Utah Jazz</td>\n",
       "      <td>25.0</td>\n",
       "      <td>PG</td>\n",
       "      <td>24.0</td>\n",
       "      <td>6-1</td>\n",
       "      <td>179.0</td>\n",
       "      <td>NaN</td>\n",
       "      <td>900000.0</td>\n",
       "    </tr>\n",
       "    <tr>\n",
       "      <th>455</th>\n",
       "      <td>Tibor Pleiss</td>\n",
       "      <td>Utah Jazz</td>\n",
       "      <td>21.0</td>\n",
       "      <td>C</td>\n",
       "      <td>26.0</td>\n",
       "      <td>7-3</td>\n",
       "      <td>256.0</td>\n",
       "      <td>NaN</td>\n",
       "      <td>2900000.0</td>\n",
       "    </tr>\n",
       "    <tr>\n",
       "      <th>456</th>\n",
       "      <td>Jeff Withey</td>\n",
       "      <td>Utah Jazz</td>\n",
       "      <td>24.0</td>\n",
       "      <td>C</td>\n",
       "      <td>26.0</td>\n",
       "      <td>7-0</td>\n",
       "      <td>231.0</td>\n",
       "      <td>Kansas</td>\n",
       "      <td>947276.0</td>\n",
       "    </tr>\n",
       "    <tr>\n",
       "      <th>457</th>\n",
       "      <td>NaN</td>\n",
       "      <td>NaN</td>\n",
       "      <td>NaN</td>\n",
       "      <td>NaN</td>\n",
       "      <td>NaN</td>\n",
       "      <td>NaN</td>\n",
       "      <td>NaN</td>\n",
       "      <td>NaN</td>\n",
       "      <td>NaN</td>\n",
       "    </tr>\n",
       "  </tbody>\n",
       "</table>\n",
       "<p>458 rows × 9 columns</p>\n",
       "</div>"
      ],
      "text/plain": [
       "              Name            Team  Number Position   Age Height  Weight  \\\n",
       "0    Avery Bradley  Boston Celtics     0.0       PG  25.0    6-2   180.0   \n",
       "1      Jae Crowder  Boston Celtics    99.0       SF  25.0    6-6   235.0   \n",
       "2     John Holland  Boston Celtics    30.0       SG  27.0    6-5   205.0   \n",
       "3      R.J. Hunter  Boston Celtics    28.0       SG  22.0    6-5   185.0   \n",
       "4    Jonas Jerebko  Boston Celtics     8.0       PF  29.0   6-10   231.0   \n",
       "..             ...             ...     ...      ...   ...    ...     ...   \n",
       "453   Shelvin Mack       Utah Jazz     8.0       PG  26.0    6-3   203.0   \n",
       "454      Raul Neto       Utah Jazz    25.0       PG  24.0    6-1   179.0   \n",
       "455   Tibor Pleiss       Utah Jazz    21.0        C  26.0    7-3   256.0   \n",
       "456    Jeff Withey       Utah Jazz    24.0        C  26.0    7-0   231.0   \n",
       "457            NaN             NaN     NaN      NaN   NaN    NaN     NaN   \n",
       "\n",
       "               College     Salary  \n",
       "0                Texas  7730337.0  \n",
       "1            Marquette  6796117.0  \n",
       "2    Boston University        NaN  \n",
       "3        Georgia State  1148640.0  \n",
       "4                  NaN  5000000.0  \n",
       "..                 ...        ...  \n",
       "453             Butler  2433333.0  \n",
       "454                NaN   900000.0  \n",
       "455                NaN  2900000.0  \n",
       "456             Kansas   947276.0  \n",
       "457                NaN        NaN  \n",
       "\n",
       "[458 rows x 9 columns]"
      ]
     },
     "execution_count": 113,
     "metadata": {},
     "output_type": "execute_result"
    }
   ],
   "source": [
    "df"
   ]
  },
  {
   "cell_type": "code",
   "execution_count": 119,
   "id": "30b679ef",
   "metadata": {},
   "outputs": [
    {
     "data": {
      "text/plain": [
       "(364, 9)"
      ]
     },
     "execution_count": 119,
     "metadata": {},
     "output_type": "execute_result"
    }
   ],
   "source": [
    "df.dropna().shape"
   ]
  },
  {
   "cell_type": "code",
   "execution_count": 238,
   "id": "2b3a8855",
   "metadata": {},
   "outputs": [
    {
     "data": {
      "text/plain": [
       "(446,)"
      ]
     },
     "execution_count": 238,
     "metadata": {},
     "output_type": "execute_result"
    }
   ],
   "source": [
    "df.Salary.dropna().shape"
   ]
  },
  {
   "cell_type": "code",
   "execution_count": 239,
   "id": "8b8e2fcd",
   "metadata": {},
   "outputs": [],
   "source": [
    "# Imputing nan"
   ]
  },
  {
   "cell_type": "code",
   "execution_count": 240,
   "id": "486cf1c9",
   "metadata": {},
   "outputs": [
    {
     "data": {
      "text/plain": [
       "(458, 9)"
      ]
     },
     "execution_count": 240,
     "metadata": {},
     "output_type": "execute_result"
    }
   ],
   "source": [
    "df.shape"
   ]
  },
  {
   "cell_type": "code",
   "execution_count": 241,
   "id": "199c6a82",
   "metadata": {},
   "outputs": [
    {
     "data": {
      "text/plain": [
       "0      False\n",
       "1      False\n",
       "2       True\n",
       "3      False\n",
       "4      False\n",
       "       ...  \n",
       "453    False\n",
       "454    False\n",
       "455    False\n",
       "456    False\n",
       "457     True\n",
       "Name: Salary, Length: 458, dtype: bool"
      ]
     },
     "execution_count": 241,
     "metadata": {},
     "output_type": "execute_result"
    }
   ],
   "source": [
    "df.Salary.isna()"
   ]
  },
  {
   "cell_type": "code",
   "execution_count": 242,
   "id": "7070fb49",
   "metadata": {},
   "outputs": [
    {
     "data": {
      "text/plain": [
       "12"
      ]
     },
     "execution_count": 242,
     "metadata": {},
     "output_type": "execute_result"
    }
   ],
   "source": [
    "df.Salary.isna().sum()"
   ]
  },
  {
   "cell_type": "code",
   "execution_count": 250,
   "id": "8b3fa2a8",
   "metadata": {},
   "outputs": [
    {
     "data": {
      "text/plain": [
       "4842684.1053811675"
      ]
     },
     "execution_count": 250,
     "metadata": {},
     "output_type": "execute_result"
    }
   ],
   "source": [
    "mean_val = df.Salary.mean()\n",
    "mean_val\n"
   ]
  },
  {
   "cell_type": "code",
   "execution_count": null,
   "id": "7948c75c",
   "metadata": {},
   "outputs": [],
   "source": [
    "df.Salary.fillna(mean_val,inplace=True)"
   ]
  },
  {
   "cell_type": "code",
   "execution_count": 244,
   "id": "ec0399c4",
   "metadata": {},
   "outputs": [],
   "source": [
    "df.Salary.fillna(df.Salary.mean(),inplace=True)\n",
    "\n"
   ]
  },
  {
   "cell_type": "code",
   "execution_count": 245,
   "id": "6d6c02ff",
   "metadata": {},
   "outputs": [
    {
     "data": {
      "text/plain": [
       "0"
      ]
     },
     "execution_count": 245,
     "metadata": {},
     "output_type": "execute_result"
    }
   ],
   "source": [
    "df.Salary.isna().sum()"
   ]
  },
  {
   "cell_type": "code",
   "execution_count": null,
   "id": "b237911c",
   "metadata": {},
   "outputs": [],
   "source": [
    "# data is normally distributed --- mean\n",
    "# not normally distributed then median\n",
    "# categorical variables -- mode"
   ]
  },
  {
   "cell_type": "code",
   "execution_count": 247,
   "id": "53641b79",
   "metadata": {},
   "outputs": [],
   "source": [
    "#df.info"
   ]
  },
  {
   "cell_type": "code",
   "execution_count": 120,
   "id": "52fda11e",
   "metadata": {},
   "outputs": [
    {
     "data": {
      "text/plain": [
       "array([<AxesSubplot:>, <AxesSubplot:>, <AxesSubplot:>, <AxesSubplot:>],\n",
       "      dtype=object)"
      ]
     },
     "execution_count": 120,
     "metadata": {},
     "output_type": "execute_result"
    },
    {
     "data": {
      "image/png": "[encoded data removed]",
      "text/plain": [
       "<Figure size 576x576 with 4 Axes>"
      ]
     },
     "metadata": {
      "needs_background": "light"
     },
     "output_type": "display_data"
    }
   ],
   "source": [
    "df.plot(subplots=True, figsize=(8,8))"
   ]
  },
  {
   "cell_type": "code",
   "execution_count": 249,
   "id": "14591d38",
   "metadata": {},
   "outputs": [
    {
     "data": {
      "text/plain": [
       "<AxesSubplot:>"
      ]
     },
     "execution_count": 249,
     "metadata": {},
     "output_type": "execute_result"
    },
    {
     "data": {
      "image/png": "[encoded data removed]",
      "text/plain": [
       "<Figure size 432x288 with 1 Axes>"
      ]
     },
     "metadata": {
      "needs_background": "light"
     },
     "output_type": "display_data"
    }
   ],
   "source": [
    "df.plot.box()"
   ]
  },
  {
   "cell_type": "code",
   "execution_count": 252,
   "id": "cc54190c",
   "metadata": {},
   "outputs": [],
   "source": [
    "df=pd.read_csv(\"C:/Users/powel/OneDrive/Desktop/Upgrad/employees.csv\")\n",
    "#df=pd.read_csv(\"C:/Users/powel/OneDrive/Desktop/Upgrad/fortune1000.csv\")\n",
    "#df=pd.read_csv(\"C:/Users/powel/OneDrive/Desktop/Upgrad/jamesbond.csv\")\n",
    "#df=pd.read_csv(\"C:/Users/powel/OneDrive/Desktop/Upgrad/nba.csv\")\n"
   ]
  },
  {
   "cell_type": "code",
   "execution_count": 253,
   "id": "5fa84f10",
   "metadata": {},
   "outputs": [
    {
     "data": {
      "text/plain": [
       "<AxesSubplot:>"
      ]
     },
     "execution_count": 253,
     "metadata": {},
     "output_type": "execute_result"
    },
    {
     "data": {
      "image/png": "[encoded data removed]",
      "text/plain": [
       "<Figure size 432x288 with 1 Axes>"
      ]
     },
     "metadata": {
      "needs_background": "light"
     },
     "output_type": "display_data"
    }
   ],
   "source": [
    "df.plot(kind='bar')"
   ]
  },
  {
   "cell_type": "code",
   "execution_count": null,
   "id": "a6f2fa2a",
   "metadata": {},
   "outputs": [],
   "source": []
  }
 ],
 "metadata": {
  "kernelspec": {
   "display_name": "Python 3 (ipykernel)",
   "language": "python",
   "name": "python3"
  },
  "language_info": {
   "codemirror_mode": {
    "name": "ipython",
    "version": 3
   },
   "file_extension": ".py",
   "mimetype": "text/x-python",
   "name": "python",
   "nbconvert_exporter": "python",
   "pygments_lexer": "ipython3",
   "version": "3.9.12"
  }
 },
 "nbformat": 4,
 "nbformat_minor": 5
}
